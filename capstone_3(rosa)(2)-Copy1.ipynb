{
 "cells": [
  {
   "cell_type": "markdown",
   "id": "a7e378ca",
   "metadata": {},
   "source": [
    "# Business Problem"
   ]
  },
  {
   "cell_type": "markdown",
   "id": "418ca252",
   "metadata": {},
   "source": [
    "Keterangan: **Ransi** adalah perusahaan travel insurance yang menjual produk nya melalui Online dan Offline untuk berbagai destinasi.\n",
    "<br>\n",
    "Perusahaan asuransi Ransi ingin meningkatkan pendapatan melalui targeted promotion kepada Customer yang dinilai \"Premium\" dengan cara menawarkan harga yang masih Premium namun tetap kompetitf. Oleh karena itu, perusahaan membutuhkan model machine learning yang dapat merumuskan target customer yang dituju yaitu: \n",
    "<br>\n",
    "1. Premium: Net sales yang tinggi berdasarkan proffiling dan kebutuhan Customer\n",
    "<br>\n",
    "2. Persentase klaim kecil"
   ]
  },
  {
   "cell_type": "code",
   "execution_count": 271,
   "id": "327f3e44",
   "metadata": {},
   "outputs": [],
   "source": [
    "#data frame\n",
    "import pandas as pd\n",
    "import numpy as np\n",
    "\n",
    "#visualisasi\n",
    "import seaborn as sns\n",
    "import matplotlib.pyplot as plt\n",
    "from matplotlib import rcParams\n",
    "import statsmodels.api as sm\n",
    "\n",
    "\n",
    "#modelling\n",
    "from sklearn.model_selection import train_test_split\n",
    "from sklearn.ensemble import RandomForestClassifier, AdaBoostClassifier\n",
    "from sklearn.linear_model import LogisticRegression, SGDClassifier\n",
    "from sklearn.metrics import classification_report, accuracy_score, confusion_matrix\n",
    "\n",
    "\n",
    "#metrics\n",
    "from sklearn.metrics import accuracy_score"
   ]
  },
  {
   "cell_type": "code",
   "execution_count": 272,
   "id": "20c6ce04",
   "metadata": {},
   "outputs": [
    {
     "data": {
      "text/html": [
       "<div>\n",
       "<style scoped>\n",
       "    .dataframe tbody tr th:only-of-type {\n",
       "        vertical-align: middle;\n",
       "    }\n",
       "\n",
       "    .dataframe tbody tr th {\n",
       "        vertical-align: top;\n",
       "    }\n",
       "\n",
       "    .dataframe thead th {\n",
       "        text-align: right;\n",
       "    }\n",
       "</style>\n",
       "<table border=\"1\" class=\"dataframe\">\n",
       "  <thead>\n",
       "    <tr style=\"text-align: right;\">\n",
       "      <th></th>\n",
       "      <th>Agency</th>\n",
       "      <th>Agency Type</th>\n",
       "      <th>Distribution Channel</th>\n",
       "      <th>Product Name</th>\n",
       "      <th>Gender</th>\n",
       "      <th>Duration</th>\n",
       "      <th>Destination</th>\n",
       "      <th>Net Sales</th>\n",
       "      <th>Commision (in value)</th>\n",
       "      <th>Age</th>\n",
       "      <th>Claim</th>\n",
       "    </tr>\n",
       "  </thead>\n",
       "  <tbody>\n",
       "    <tr>\n",
       "      <th>0</th>\n",
       "      <td>C2B</td>\n",
       "      <td>Airlines</td>\n",
       "      <td>Online</td>\n",
       "      <td>Annual Silver Plan</td>\n",
       "      <td>F</td>\n",
       "      <td>365</td>\n",
       "      <td>SINGAPORE</td>\n",
       "      <td>216.0</td>\n",
       "      <td>54.0</td>\n",
       "      <td>57</td>\n",
       "      <td>No</td>\n",
       "    </tr>\n",
       "    <tr>\n",
       "      <th>1</th>\n",
       "      <td>EPX</td>\n",
       "      <td>Travel Agency</td>\n",
       "      <td>Online</td>\n",
       "      <td>Cancellation Plan</td>\n",
       "      <td>NaN</td>\n",
       "      <td>4</td>\n",
       "      <td>MALAYSIA</td>\n",
       "      <td>10.0</td>\n",
       "      <td>0.0</td>\n",
       "      <td>33</td>\n",
       "      <td>No</td>\n",
       "    </tr>\n",
       "    <tr>\n",
       "      <th>2</th>\n",
       "      <td>JZI</td>\n",
       "      <td>Airlines</td>\n",
       "      <td>Online</td>\n",
       "      <td>Basic Plan</td>\n",
       "      <td>M</td>\n",
       "      <td>19</td>\n",
       "      <td>INDIA</td>\n",
       "      <td>22.0</td>\n",
       "      <td>7.7</td>\n",
       "      <td>26</td>\n",
       "      <td>No</td>\n",
       "    </tr>\n",
       "    <tr>\n",
       "      <th>3</th>\n",
       "      <td>EPX</td>\n",
       "      <td>Travel Agency</td>\n",
       "      <td>Online</td>\n",
       "      <td>2 way Comprehensive Plan</td>\n",
       "      <td>NaN</td>\n",
       "      <td>20</td>\n",
       "      <td>UNITED STATES</td>\n",
       "      <td>112.0</td>\n",
       "      <td>0.0</td>\n",
       "      <td>59</td>\n",
       "      <td>No</td>\n",
       "    </tr>\n",
       "    <tr>\n",
       "      <th>4</th>\n",
       "      <td>C2B</td>\n",
       "      <td>Airlines</td>\n",
       "      <td>Online</td>\n",
       "      <td>Bronze Plan</td>\n",
       "      <td>M</td>\n",
       "      <td>8</td>\n",
       "      <td>SINGAPORE</td>\n",
       "      <td>16.0</td>\n",
       "      <td>4.0</td>\n",
       "      <td>28</td>\n",
       "      <td>No</td>\n",
       "    </tr>\n",
       "  </tbody>\n",
       "</table>\n",
       "</div>"
      ],
      "text/plain": [
       "  Agency    Agency Type Distribution Channel              Product Name Gender  \\\n",
       "0    C2B       Airlines               Online        Annual Silver Plan      F   \n",
       "1    EPX  Travel Agency               Online         Cancellation Plan    NaN   \n",
       "2    JZI       Airlines               Online                Basic Plan      M   \n",
       "3    EPX  Travel Agency               Online  2 way Comprehensive Plan    NaN   \n",
       "4    C2B       Airlines               Online               Bronze Plan      M   \n",
       "\n",
       "   Duration    Destination  Net Sales  Commision (in value)  Age Claim  \n",
       "0       365      SINGAPORE      216.0                  54.0   57    No  \n",
       "1         4       MALAYSIA       10.0                   0.0   33    No  \n",
       "2        19          INDIA       22.0                   7.7   26    No  \n",
       "3        20  UNITED STATES      112.0                   0.0   59    No  \n",
       "4         8      SINGAPORE       16.0                   4.0   28    No  "
      ]
     },
     "execution_count": 272,
     "metadata": {},
     "output_type": "execute_result"
    }
   ],
   "source": [
    "df=pd.read_csv('data_travel_insurance.csv')\n",
    "df.head(5)"
   ]
  },
  {
   "cell_type": "markdown",
   "id": "29a68ac7",
   "metadata": {},
   "source": [
    "# Data Understanding"
   ]
  },
  {
   "cell_type": "code",
   "execution_count": 273,
   "id": "0d0a650e",
   "metadata": {},
   "outputs": [
    {
     "name": "stdout",
     "output_type": "stream",
     "text": [
      "Jumlah baris dan kolom yang ada pada data ini adalah (44328, 11)\n",
      "<class 'pandas.core.frame.DataFrame'>\n",
      "RangeIndex: 44328 entries, 0 to 44327\n",
      "Data columns (total 11 columns):\n",
      " #   Column                Non-Null Count  Dtype  \n",
      "---  ------                --------------  -----  \n",
      " 0   Agency                44328 non-null  object \n",
      " 1   Agency Type           44328 non-null  object \n",
      " 2   Distribution Channel  44328 non-null  object \n",
      " 3   Product Name          44328 non-null  object \n",
      " 4   Gender                12681 non-null  object \n",
      " 5   Duration              44328 non-null  int64  \n",
      " 6   Destination           44328 non-null  object \n",
      " 7   Net Sales             44328 non-null  float64\n",
      " 8   Commision (in value)  44328 non-null  float64\n",
      " 9   Age                   44328 non-null  int64  \n",
      " 10  Claim                 44328 non-null  object \n",
      "dtypes: float64(2), int64(2), object(7)\n",
      "memory usage: 3.7+ MB\n"
     ]
    }
   ],
   "source": [
    "print(f'Jumlah baris dan kolom yang ada pada data ini adalah {df.shape}')\n",
    "df.info()"
   ]
  },
  {
   "cell_type": "markdown",
   "id": "44e0bc87",
   "metadata": {},
   "source": [
    "`Gender` adalah satu satunya column yang memiliki missing value dan dengan tingginya missing value yang ada kemungkinan column `Gender` akan di hapus pada data cleaning"
   ]
  },
  {
   "cell_type": "markdown",
   "id": "75b0f88e",
   "metadata": {},
   "source": [
    "## Numerik"
   ]
  },
  {
   "cell_type": "code",
   "execution_count": 274,
   "id": "7ef18989",
   "metadata": {},
   "outputs": [
    {
     "data": {
      "text/html": [
       "<div>\n",
       "<style scoped>\n",
       "    .dataframe tbody tr th:only-of-type {\n",
       "        vertical-align: middle;\n",
       "    }\n",
       "\n",
       "    .dataframe tbody tr th {\n",
       "        vertical-align: top;\n",
       "    }\n",
       "\n",
       "    .dataframe thead th {\n",
       "        text-align: right;\n",
       "    }\n",
       "</style>\n",
       "<table border=\"1\" class=\"dataframe\">\n",
       "  <thead>\n",
       "    <tr style=\"text-align: right;\">\n",
       "      <th></th>\n",
       "      <th>Duration</th>\n",
       "      <th>Net Sales</th>\n",
       "      <th>Commision (in value)</th>\n",
       "      <th>Age</th>\n",
       "    </tr>\n",
       "  </thead>\n",
       "  <tbody>\n",
       "    <tr>\n",
       "      <th>count</th>\n",
       "      <td>44328.000000</td>\n",
       "      <td>44328.000000</td>\n",
       "      <td>44328.000000</td>\n",
       "      <td>44328.000000</td>\n",
       "    </tr>\n",
       "    <tr>\n",
       "      <th>mean</th>\n",
       "      <td>49.424292</td>\n",
       "      <td>40.550948</td>\n",
       "      <td>9.707692</td>\n",
       "      <td>39.925600</td>\n",
       "    </tr>\n",
       "    <tr>\n",
       "      <th>std</th>\n",
       "      <td>109.153961</td>\n",
       "      <td>48.661970</td>\n",
       "      <td>19.625637</td>\n",
       "      <td>13.954926</td>\n",
       "    </tr>\n",
       "    <tr>\n",
       "      <th>min</th>\n",
       "      <td>-1.000000</td>\n",
       "      <td>-357.500000</td>\n",
       "      <td>0.000000</td>\n",
       "      <td>0.000000</td>\n",
       "    </tr>\n",
       "    <tr>\n",
       "      <th>25%</th>\n",
       "      <td>9.000000</td>\n",
       "      <td>18.000000</td>\n",
       "      <td>0.000000</td>\n",
       "      <td>35.000000</td>\n",
       "    </tr>\n",
       "    <tr>\n",
       "      <th>50%</th>\n",
       "      <td>22.000000</td>\n",
       "      <td>26.500000</td>\n",
       "      <td>0.000000</td>\n",
       "      <td>36.000000</td>\n",
       "    </tr>\n",
       "    <tr>\n",
       "      <th>75%</th>\n",
       "      <td>53.000000</td>\n",
       "      <td>48.000000</td>\n",
       "      <td>11.550000</td>\n",
       "      <td>43.000000</td>\n",
       "    </tr>\n",
       "    <tr>\n",
       "      <th>max</th>\n",
       "      <td>4881.000000</td>\n",
       "      <td>810.000000</td>\n",
       "      <td>283.500000</td>\n",
       "      <td>118.000000</td>\n",
       "    </tr>\n",
       "  </tbody>\n",
       "</table>\n",
       "</div>"
      ],
      "text/plain": [
       "           Duration     Net Sales  Commision (in value)           Age\n",
       "count  44328.000000  44328.000000          44328.000000  44328.000000\n",
       "mean      49.424292     40.550948              9.707692     39.925600\n",
       "std      109.153961     48.661970             19.625637     13.954926\n",
       "min       -1.000000   -357.500000              0.000000      0.000000\n",
       "25%        9.000000     18.000000              0.000000     35.000000\n",
       "50%       22.000000     26.500000              0.000000     36.000000\n",
       "75%       53.000000     48.000000             11.550000     43.000000\n",
       "max     4881.000000    810.000000            283.500000    118.000000"
      ]
     },
     "execution_count": 274,
     "metadata": {},
     "output_type": "execute_result"
    }
   ],
   "source": [
    "df.describe()"
   ]
  },
  {
   "cell_type": "code",
   "execution_count": 275,
   "id": "29b89a0e",
   "metadata": {},
   "outputs": [
    {
     "data": {
      "image/png": "[encoded data removed]",
      "text/plain": [
       "<Figure size 1000x1000 with 4 Axes>"
      ]
     },
     "metadata": {},
     "output_type": "display_data"
    }
   ],
   "source": [
    "plt.figure(figsize=(10, 10))\n",
    "plotnumber = 1\n",
    "num_features = df.select_dtypes(include='number').columns\n",
    "\n",
    "for feature in num_features:\n",
    "    ax = plt.subplot(5, 3, plotnumber)\n",
    "    sns.histplot(data=df,x=feature,color='cornflowerblue')\n",
    "    plt.title(feature, fontsize=20)\n",
    "    plotnumber += 1\n",
    "    plt.tight_layout()"
   ]
  },
  {
   "cell_type": "code",
   "execution_count": 276,
   "id": "1efad1bf",
   "metadata": {},
   "outputs": [
    {
     "data": {
      "image/png": "[encoded data removed]",
      "text/plain": [
       "<Figure size 2500x2500 with 4 Axes>"
      ]
     },
     "metadata": {},
     "output_type": "display_data"
    }
   ],
   "source": [
    "plt.figure(figsize=(25, 25))\n",
    "plotnumber = 1\n",
    "num_features = df.select_dtypes(include='number').columns\n",
    "\n",
    "for feature in num_features:\n",
    "    ax = plt.subplot(5, 3, plotnumber)\n",
    "    sns.boxplot(data=df,x=feature,color='cornflowerblue')\n",
    "    plt.title(feature, fontsize=20)\n",
    "    plotnumber += 1\n",
    "    plt.tight_layout()"
   ]
  },
  {
   "cell_type": "markdown",
   "id": "9d21a88d",
   "metadata": {},
   "source": [
    "Melalui deskripsi dan grafik dapat dilihat adanya abnormalitas pada data tersebut seperti:\n",
    "<br>\n",
    "1. Duration: adanya data yang kurang dari 0 & lebih tinggi dari 4000\n",
    "<br>\n",
    "2. Net Sales:kurang dari 0\n",
    "<br>\n",
    "3. Age: umur 118 tahun\n"
   ]
  },
  {
   "cell_type": "markdown",
   "id": "101d5229",
   "metadata": {},
   "source": [
    "#### Duration "
   ]
  },
  {
   "cell_type": "code",
   "execution_count": 277,
   "id": "2a1463a6",
   "metadata": {},
   "outputs": [
    {
     "data": {
      "text/html": [
       "<div>\n",
       "<style scoped>\n",
       "    .dataframe tbody tr th:only-of-type {\n",
       "        vertical-align: middle;\n",
       "    }\n",
       "\n",
       "    .dataframe tbody tr th {\n",
       "        vertical-align: top;\n",
       "    }\n",
       "\n",
       "    .dataframe thead th {\n",
       "        text-align: right;\n",
       "    }\n",
       "</style>\n",
       "<table border=\"1\" class=\"dataframe\">\n",
       "  <thead>\n",
       "    <tr style=\"text-align: right;\">\n",
       "      <th></th>\n",
       "      <th>Destination</th>\n",
       "      <th>Duration</th>\n",
       "      <th>Age</th>\n",
       "      <th>Net Sales</th>\n",
       "      <th>Agency Type</th>\n",
       "      <th>Agency</th>\n",
       "      <th>Claim</th>\n",
       "    </tr>\n",
       "  </thead>\n",
       "  <tbody>\n",
       "    <tr>\n",
       "      <th>26228</th>\n",
       "      <td>MALAYSIA</td>\n",
       "      <td>-1</td>\n",
       "      <td>118</td>\n",
       "      <td>18.0</td>\n",
       "      <td>Airlines</td>\n",
       "      <td>JZI</td>\n",
       "      <td>No</td>\n",
       "    </tr>\n",
       "    <tr>\n",
       "      <th>26494</th>\n",
       "      <td>BRUNEI DARUSSALAM</td>\n",
       "      <td>-1</td>\n",
       "      <td>118</td>\n",
       "      <td>18.0</td>\n",
       "      <td>Airlines</td>\n",
       "      <td>JZI</td>\n",
       "      <td>No</td>\n",
       "    </tr>\n",
       "  </tbody>\n",
       "</table>\n",
       "</div>"
      ],
      "text/plain": [
       "             Destination  Duration  Age  Net Sales Agency Type Agency Claim\n",
       "26228           MALAYSIA        -1  118       18.0    Airlines    JZI    No\n",
       "26494  BRUNEI DARUSSALAM        -1  118       18.0    Airlines    JZI    No"
      ]
     },
     "execution_count": 277,
     "metadata": {},
     "output_type": "execute_result"
    }
   ],
   "source": [
    "df[['Destination','Duration','Age','Net Sales','Agency Type','Agency','Claim']][df['Duration']<0]"
   ]
  },
  {
   "cell_type": "markdown",
   "id": "bc1b712d",
   "metadata": {},
   "source": [
    "`Duration` hanya memiliki 2 data yang berisi -1, kemungkinan data ini adalah kesalahan pengisian dan akan diperbaiki pada saat data cleaning"
   ]
  },
  {
   "cell_type": "markdown",
   "id": "5859b886",
   "metadata": {},
   "source": [
    "#### Net Sales"
   ]
  },
  {
   "cell_type": "code",
   "execution_count": 278,
   "id": "89c82bb5",
   "metadata": {},
   "outputs": [
    {
     "data": {
      "text/html": [
       "<div>\n",
       "<style scoped>\n",
       "    .dataframe tbody tr th:only-of-type {\n",
       "        vertical-align: middle;\n",
       "    }\n",
       "\n",
       "    .dataframe tbody tr th {\n",
       "        vertical-align: top;\n",
       "    }\n",
       "\n",
       "    .dataframe thead th {\n",
       "        text-align: right;\n",
       "    }\n",
       "</style>\n",
       "<table border=\"1\" class=\"dataframe\">\n",
       "  <thead>\n",
       "    <tr style=\"text-align: right;\">\n",
       "      <th></th>\n",
       "      <th>Destination</th>\n",
       "      <th>Duration</th>\n",
       "      <th>Age</th>\n",
       "      <th>Net Sales</th>\n",
       "      <th>Agency Type</th>\n",
       "      <th>Agency</th>\n",
       "      <th>Claim</th>\n",
       "    </tr>\n",
       "  </thead>\n",
       "  <tbody>\n",
       "    <tr>\n",
       "      <th>94</th>\n",
       "      <td>SINGAPORE</td>\n",
       "      <td>365</td>\n",
       "      <td>36</td>\n",
       "      <td>-216.75</td>\n",
       "      <td>Airlines</td>\n",
       "      <td>C2B</td>\n",
       "      <td>No</td>\n",
       "    </tr>\n",
       "    <tr>\n",
       "      <th>4458</th>\n",
       "      <td>UNITED ARAB EMIRATES</td>\n",
       "      <td>52</td>\n",
       "      <td>31</td>\n",
       "      <td>-287.10</td>\n",
       "      <td>Travel Agency</td>\n",
       "      <td>CWT</td>\n",
       "      <td>No</td>\n",
       "    </tr>\n",
       "    <tr>\n",
       "      <th>7024</th>\n",
       "      <td>NEW ZEALAND</td>\n",
       "      <td>127</td>\n",
       "      <td>41</td>\n",
       "      <td>-207.90</td>\n",
       "      <td>Travel Agency</td>\n",
       "      <td>CWT</td>\n",
       "      <td>No</td>\n",
       "    </tr>\n",
       "    <tr>\n",
       "      <th>9471</th>\n",
       "      <td>SINGAPORE</td>\n",
       "      <td>419</td>\n",
       "      <td>34</td>\n",
       "      <td>-252.85</td>\n",
       "      <td>Airlines</td>\n",
       "      <td>C2B</td>\n",
       "      <td>No</td>\n",
       "    </tr>\n",
       "    <tr>\n",
       "      <th>10563</th>\n",
       "      <td>SINGAPORE</td>\n",
       "      <td>158</td>\n",
       "      <td>22</td>\n",
       "      <td>-281.00</td>\n",
       "      <td>Airlines</td>\n",
       "      <td>C2B</td>\n",
       "      <td>No</td>\n",
       "    </tr>\n",
       "    <tr>\n",
       "      <th>13177</th>\n",
       "      <td>SINGAPORE</td>\n",
       "      <td>366</td>\n",
       "      <td>65</td>\n",
       "      <td>-287.40</td>\n",
       "      <td>Airlines</td>\n",
       "      <td>C2B</td>\n",
       "      <td>No</td>\n",
       "    </tr>\n",
       "    <tr>\n",
       "      <th>18466</th>\n",
       "      <td>AUSTRALIA</td>\n",
       "      <td>65</td>\n",
       "      <td>34</td>\n",
       "      <td>-297.00</td>\n",
       "      <td>Travel Agency</td>\n",
       "      <td>CWT</td>\n",
       "      <td>No</td>\n",
       "    </tr>\n",
       "    <tr>\n",
       "      <th>20137</th>\n",
       "      <td>SINGAPORE</td>\n",
       "      <td>176</td>\n",
       "      <td>24</td>\n",
       "      <td>-357.50</td>\n",
       "      <td>Airlines</td>\n",
       "      <td>C2B</td>\n",
       "      <td>No</td>\n",
       "    </tr>\n",
       "    <tr>\n",
       "      <th>22579</th>\n",
       "      <td>SINGAPORE</td>\n",
       "      <td>367</td>\n",
       "      <td>31</td>\n",
       "      <td>-216.00</td>\n",
       "      <td>Airlines</td>\n",
       "      <td>C2B</td>\n",
       "      <td>No</td>\n",
       "    </tr>\n",
       "    <tr>\n",
       "      <th>23738</th>\n",
       "      <td>UNITED KINGDOM</td>\n",
       "      <td>233</td>\n",
       "      <td>41</td>\n",
       "      <td>-217.80</td>\n",
       "      <td>Travel Agency</td>\n",
       "      <td>CWT</td>\n",
       "      <td>No</td>\n",
       "    </tr>\n",
       "    <tr>\n",
       "      <th>28205</th>\n",
       "      <td>DENMARK</td>\n",
       "      <td>107</td>\n",
       "      <td>48</td>\n",
       "      <td>-247.50</td>\n",
       "      <td>Travel Agency</td>\n",
       "      <td>CWT</td>\n",
       "      <td>No</td>\n",
       "    </tr>\n",
       "    <tr>\n",
       "      <th>29402</th>\n",
       "      <td>SINGAPORE</td>\n",
       "      <td>431</td>\n",
       "      <td>66</td>\n",
       "      <td>-252.85</td>\n",
       "      <td>Airlines</td>\n",
       "      <td>C2B</td>\n",
       "      <td>No</td>\n",
       "    </tr>\n",
       "    <tr>\n",
       "      <th>32845</th>\n",
       "      <td>SINGAPORE</td>\n",
       "      <td>374</td>\n",
       "      <td>42</td>\n",
       "      <td>-252.85</td>\n",
       "      <td>Airlines</td>\n",
       "      <td>C2B</td>\n",
       "      <td>No</td>\n",
       "    </tr>\n",
       "    <tr>\n",
       "      <th>36562</th>\n",
       "      <td>SINGAPORE</td>\n",
       "      <td>427</td>\n",
       "      <td>66</td>\n",
       "      <td>-291.75</td>\n",
       "      <td>Airlines</td>\n",
       "      <td>C2B</td>\n",
       "      <td>No</td>\n",
       "    </tr>\n",
       "    <tr>\n",
       "      <th>41223</th>\n",
       "      <td>SINGAPORE</td>\n",
       "      <td>385</td>\n",
       "      <td>52</td>\n",
       "      <td>-259.20</td>\n",
       "      <td>Airlines</td>\n",
       "      <td>C2B</td>\n",
       "      <td>No</td>\n",
       "    </tr>\n",
       "    <tr>\n",
       "      <th>43343</th>\n",
       "      <td>SINGAPORE</td>\n",
       "      <td>366</td>\n",
       "      <td>27</td>\n",
       "      <td>-216.00</td>\n",
       "      <td>Airlines</td>\n",
       "      <td>C2B</td>\n",
       "      <td>No</td>\n",
       "    </tr>\n",
       "    <tr>\n",
       "      <th>43350</th>\n",
       "      <td>SINGAPORE</td>\n",
       "      <td>365</td>\n",
       "      <td>30</td>\n",
       "      <td>-289.00</td>\n",
       "      <td>Airlines</td>\n",
       "      <td>C2B</td>\n",
       "      <td>No</td>\n",
       "    </tr>\n",
       "  </tbody>\n",
       "</table>\n",
       "</div>"
      ],
      "text/plain": [
       "                Destination  Duration  Age  Net Sales    Agency Type Agency  \\\n",
       "94                SINGAPORE       365   36    -216.75       Airlines    C2B   \n",
       "4458   UNITED ARAB EMIRATES        52   31    -287.10  Travel Agency    CWT   \n",
       "7024            NEW ZEALAND       127   41    -207.90  Travel Agency    CWT   \n",
       "9471              SINGAPORE       419   34    -252.85       Airlines    C2B   \n",
       "10563             SINGAPORE       158   22    -281.00       Airlines    C2B   \n",
       "13177             SINGAPORE       366   65    -287.40       Airlines    C2B   \n",
       "18466             AUSTRALIA        65   34    -297.00  Travel Agency    CWT   \n",
       "20137             SINGAPORE       176   24    -357.50       Airlines    C2B   \n",
       "22579             SINGAPORE       367   31    -216.00       Airlines    C2B   \n",
       "23738        UNITED KINGDOM       233   41    -217.80  Travel Agency    CWT   \n",
       "28205               DENMARK       107   48    -247.50  Travel Agency    CWT   \n",
       "29402             SINGAPORE       431   66    -252.85       Airlines    C2B   \n",
       "32845             SINGAPORE       374   42    -252.85       Airlines    C2B   \n",
       "36562             SINGAPORE       427   66    -291.75       Airlines    C2B   \n",
       "41223             SINGAPORE       385   52    -259.20       Airlines    C2B   \n",
       "43343             SINGAPORE       366   27    -216.00       Airlines    C2B   \n",
       "43350             SINGAPORE       365   30    -289.00       Airlines    C2B   \n",
       "\n",
       "      Claim  \n",
       "94       No  \n",
       "4458     No  \n",
       "7024     No  \n",
       "9471     No  \n",
       "10563    No  \n",
       "13177    No  \n",
       "18466    No  \n",
       "20137    No  \n",
       "22579    No  \n",
       "23738    No  \n",
       "28205    No  \n",
       "29402    No  \n",
       "32845    No  \n",
       "36562    No  \n",
       "41223    No  \n",
       "43343    No  \n",
       "43350    No  "
      ]
     },
     "execution_count": 278,
     "metadata": {},
     "output_type": "execute_result"
    }
   ],
   "source": [
    "df[['Destination','Duration','Age','Net Sales','Agency Type','Agency','Claim']][df['Net Sales']<=-200]"
   ]
  },
  {
   "cell_type": "code",
   "execution_count": 279,
   "id": "c76b9927",
   "metadata": {},
   "outputs": [
    {
     "name": "stderr",
     "output_type": "stream",
     "text": [
      "C:\\Users\\rosa\\AppData\\Local\\Temp\\ipykernel_9472\\3430438059.py:1: UserWarning: Boolean Series key will be reindexed to match DataFrame index.\n",
      "  df[['Destination','Duration','Age','Net Sales','Agency Type','Agency','Claim']][df['Destination']=='SINGAPORE'][df['Agency Type']=='Airlines'][df['Duration']==365][df['Age']==36]\n"
     ]
    },
    {
     "data": {
      "text/html": [
       "<div>\n",
       "<style scoped>\n",
       "    .dataframe tbody tr th:only-of-type {\n",
       "        vertical-align: middle;\n",
       "    }\n",
       "\n",
       "    .dataframe tbody tr th {\n",
       "        vertical-align: top;\n",
       "    }\n",
       "\n",
       "    .dataframe thead th {\n",
       "        text-align: right;\n",
       "    }\n",
       "</style>\n",
       "<table border=\"1\" class=\"dataframe\">\n",
       "  <thead>\n",
       "    <tr style=\"text-align: right;\">\n",
       "      <th></th>\n",
       "      <th>Destination</th>\n",
       "      <th>Duration</th>\n",
       "      <th>Age</th>\n",
       "      <th>Net Sales</th>\n",
       "      <th>Agency Type</th>\n",
       "      <th>Agency</th>\n",
       "      <th>Claim</th>\n",
       "    </tr>\n",
       "  </thead>\n",
       "  <tbody>\n",
       "    <tr>\n",
       "      <th>94</th>\n",
       "      <td>SINGAPORE</td>\n",
       "      <td>365</td>\n",
       "      <td>36</td>\n",
       "      <td>-216.75</td>\n",
       "      <td>Airlines</td>\n",
       "      <td>C2B</td>\n",
       "      <td>No</td>\n",
       "    </tr>\n",
       "    <tr>\n",
       "      <th>5455</th>\n",
       "      <td>SINGAPORE</td>\n",
       "      <td>365</td>\n",
       "      <td>36</td>\n",
       "      <td>289.00</td>\n",
       "      <td>Airlines</td>\n",
       "      <td>C2B</td>\n",
       "      <td>No</td>\n",
       "    </tr>\n",
       "    <tr>\n",
       "      <th>16287</th>\n",
       "      <td>SINGAPORE</td>\n",
       "      <td>365</td>\n",
       "      <td>36</td>\n",
       "      <td>216.00</td>\n",
       "      <td>Airlines</td>\n",
       "      <td>C2B</td>\n",
       "      <td>No</td>\n",
       "    </tr>\n",
       "    <tr>\n",
       "      <th>16378</th>\n",
       "      <td>SINGAPORE</td>\n",
       "      <td>365</td>\n",
       "      <td>36</td>\n",
       "      <td>216.00</td>\n",
       "      <td>Airlines</td>\n",
       "      <td>C2B</td>\n",
       "      <td>No</td>\n",
       "    </tr>\n",
       "    <tr>\n",
       "      <th>20914</th>\n",
       "      <td>SINGAPORE</td>\n",
       "      <td>365</td>\n",
       "      <td>36</td>\n",
       "      <td>252.85</td>\n",
       "      <td>Airlines</td>\n",
       "      <td>C2B</td>\n",
       "      <td>No</td>\n",
       "    </tr>\n",
       "    <tr>\n",
       "      <th>22187</th>\n",
       "      <td>SINGAPORE</td>\n",
       "      <td>365</td>\n",
       "      <td>36</td>\n",
       "      <td>193.20</td>\n",
       "      <td>Airlines</td>\n",
       "      <td>C2B</td>\n",
       "      <td>No</td>\n",
       "    </tr>\n",
       "    <tr>\n",
       "      <th>25916</th>\n",
       "      <td>SINGAPORE</td>\n",
       "      <td>365</td>\n",
       "      <td>36</td>\n",
       "      <td>252.85</td>\n",
       "      <td>Airlines</td>\n",
       "      <td>C2B</td>\n",
       "      <td>Yes</td>\n",
       "    </tr>\n",
       "    <tr>\n",
       "      <th>30082</th>\n",
       "      <td>SINGAPORE</td>\n",
       "      <td>365</td>\n",
       "      <td>36</td>\n",
       "      <td>161.00</td>\n",
       "      <td>Airlines</td>\n",
       "      <td>C2B</td>\n",
       "      <td>No</td>\n",
       "    </tr>\n",
       "    <tr>\n",
       "      <th>30670</th>\n",
       "      <td>SINGAPORE</td>\n",
       "      <td>365</td>\n",
       "      <td>36</td>\n",
       "      <td>202.30</td>\n",
       "      <td>Airlines</td>\n",
       "      <td>C2B</td>\n",
       "      <td>No</td>\n",
       "    </tr>\n",
       "    <tr>\n",
       "      <th>40159</th>\n",
       "      <td>SINGAPORE</td>\n",
       "      <td>365</td>\n",
       "      <td>36</td>\n",
       "      <td>216.75</td>\n",
       "      <td>Airlines</td>\n",
       "      <td>C2B</td>\n",
       "      <td>No</td>\n",
       "    </tr>\n",
       "    <tr>\n",
       "      <th>43711</th>\n",
       "      <td>SINGAPORE</td>\n",
       "      <td>365</td>\n",
       "      <td>36</td>\n",
       "      <td>216.00</td>\n",
       "      <td>Airlines</td>\n",
       "      <td>C2B</td>\n",
       "      <td>No</td>\n",
       "    </tr>\n",
       "  </tbody>\n",
       "</table>\n",
       "</div>"
      ],
      "text/plain": [
       "      Destination  Duration  Age  Net Sales Agency Type Agency Claim\n",
       "94      SINGAPORE       365   36    -216.75    Airlines    C2B    No\n",
       "5455    SINGAPORE       365   36     289.00    Airlines    C2B    No\n",
       "16287   SINGAPORE       365   36     216.00    Airlines    C2B    No\n",
       "16378   SINGAPORE       365   36     216.00    Airlines    C2B    No\n",
       "20914   SINGAPORE       365   36     252.85    Airlines    C2B    No\n",
       "22187   SINGAPORE       365   36     193.20    Airlines    C2B    No\n",
       "25916   SINGAPORE       365   36     252.85    Airlines    C2B   Yes\n",
       "30082   SINGAPORE       365   36     161.00    Airlines    C2B    No\n",
       "30670   SINGAPORE       365   36     202.30    Airlines    C2B    No\n",
       "40159   SINGAPORE       365   36     216.75    Airlines    C2B    No\n",
       "43711   SINGAPORE       365   36     216.00    Airlines    C2B    No"
      ]
     },
     "execution_count": 279,
     "metadata": {},
     "output_type": "execute_result"
    }
   ],
   "source": [
    "df[['Destination','Duration','Age','Net Sales','Agency Type','Agency','Claim']][df['Destination']=='SINGAPORE'][df['Agency Type']=='Airlines'][df['Duration']==365][df['Age']==36]"
   ]
  },
  {
   "cell_type": "markdown",
   "id": "250c6197",
   "metadata": {},
   "source": [
    "Data Singapore memiliki banyak nilai minus dan setelah melalui analisa lebih lanjut, nilai net sales yang minus tidak mengartikan apapun dalam data tersebut. Contoh pada baris 94, nilai `Net Sales` adalah -216.75 sedangkan pada baris 40159 yang memiliki variable yang sama pada `Destination`, `Duration`, `Age`, `Agency Type`, `Agency`, dan `Claim` memiliki nilai `Net Sales` 216.75"
   ]
  },
  {
   "cell_type": "markdown",
   "id": "36d14864",
   "metadata": {},
   "source": [
    "Data `Net Sales` akan diberikan nilai absolut pada process **Data Cleaning**"
   ]
  },
  {
   "cell_type": "markdown",
   "id": "935790d8",
   "metadata": {},
   "source": [
    "#### Age"
   ]
  },
  {
   "cell_type": "code",
   "execution_count": 280,
   "id": "9faad6ac",
   "metadata": {},
   "outputs": [
    {
     "data": {
      "text/html": [
       "<div>\n",
       "<style scoped>\n",
       "    .dataframe tbody tr th:only-of-type {\n",
       "        vertical-align: middle;\n",
       "    }\n",
       "\n",
       "    .dataframe tbody tr th {\n",
       "        vertical-align: top;\n",
       "    }\n",
       "\n",
       "    .dataframe thead th {\n",
       "        text-align: right;\n",
       "    }\n",
       "</style>\n",
       "<table border=\"1\" class=\"dataframe\">\n",
       "  <thead>\n",
       "    <tr style=\"text-align: right;\">\n",
       "      <th></th>\n",
       "      <th>Destination</th>\n",
       "      <th>Duration</th>\n",
       "      <th>Age</th>\n",
       "      <th>Net Sales</th>\n",
       "      <th>Agency Type</th>\n",
       "      <th>Agency</th>\n",
       "      <th>Claim</th>\n",
       "    </tr>\n",
       "  </thead>\n",
       "  <tbody>\n",
       "    <tr>\n",
       "      <th>99</th>\n",
       "      <td>MALAYSIA</td>\n",
       "      <td>7</td>\n",
       "      <td>118</td>\n",
       "      <td>29.0</td>\n",
       "      <td>Airlines</td>\n",
       "      <td>ART</td>\n",
       "      <td>No</td>\n",
       "    </tr>\n",
       "    <tr>\n",
       "      <th>105</th>\n",
       "      <td>INDONESIA</td>\n",
       "      <td>16</td>\n",
       "      <td>118</td>\n",
       "      <td>37.0</td>\n",
       "      <td>Airlines</td>\n",
       "      <td>JZI</td>\n",
       "      <td>No</td>\n",
       "    </tr>\n",
       "    <tr>\n",
       "      <th>363</th>\n",
       "      <td>INDIA</td>\n",
       "      <td>12</td>\n",
       "      <td>118</td>\n",
       "      <td>39.0</td>\n",
       "      <td>Airlines</td>\n",
       "      <td>JWT</td>\n",
       "      <td>No</td>\n",
       "    </tr>\n",
       "    <tr>\n",
       "      <th>373</th>\n",
       "      <td>INDIA</td>\n",
       "      <td>6</td>\n",
       "      <td>118</td>\n",
       "      <td>39.0</td>\n",
       "      <td>Airlines</td>\n",
       "      <td>JWT</td>\n",
       "      <td>No</td>\n",
       "    </tr>\n",
       "    <tr>\n",
       "      <th>727</th>\n",
       "      <td>INDIA</td>\n",
       "      <td>76</td>\n",
       "      <td>118</td>\n",
       "      <td>100.0</td>\n",
       "      <td>Airlines</td>\n",
       "      <td>JWT</td>\n",
       "      <td>No</td>\n",
       "    </tr>\n",
       "    <tr>\n",
       "      <th>...</th>\n",
       "      <td>...</td>\n",
       "      <td>...</td>\n",
       "      <td>...</td>\n",
       "      <td>...</td>\n",
       "      <td>...</td>\n",
       "      <td>...</td>\n",
       "      <td>...</td>\n",
       "    </tr>\n",
       "    <tr>\n",
       "      <th>44089</th>\n",
       "      <td>INDIA</td>\n",
       "      <td>42</td>\n",
       "      <td>118</td>\n",
       "      <td>31.0</td>\n",
       "      <td>Airlines</td>\n",
       "      <td>JWT</td>\n",
       "      <td>No</td>\n",
       "    </tr>\n",
       "    <tr>\n",
       "      <th>44140</th>\n",
       "      <td>INDIA</td>\n",
       "      <td>84</td>\n",
       "      <td>118</td>\n",
       "      <td>93.0</td>\n",
       "      <td>Airlines</td>\n",
       "      <td>JWT</td>\n",
       "      <td>No</td>\n",
       "    </tr>\n",
       "    <tr>\n",
       "      <th>44150</th>\n",
       "      <td>INDIA</td>\n",
       "      <td>5</td>\n",
       "      <td>118</td>\n",
       "      <td>39.0</td>\n",
       "      <td>Airlines</td>\n",
       "      <td>JWT</td>\n",
       "      <td>No</td>\n",
       "    </tr>\n",
       "    <tr>\n",
       "      <th>44160</th>\n",
       "      <td>INDIA</td>\n",
       "      <td>0</td>\n",
       "      <td>118</td>\n",
       "      <td>31.0</td>\n",
       "      <td>Airlines</td>\n",
       "      <td>JWT</td>\n",
       "      <td>No</td>\n",
       "    </tr>\n",
       "    <tr>\n",
       "      <th>44219</th>\n",
       "      <td>INDIA</td>\n",
       "      <td>5</td>\n",
       "      <td>118</td>\n",
       "      <td>31.0</td>\n",
       "      <td>Airlines</td>\n",
       "      <td>JWT</td>\n",
       "      <td>No</td>\n",
       "    </tr>\n",
       "  </tbody>\n",
       "</table>\n",
       "<p>676 rows × 7 columns</p>\n",
       "</div>"
      ],
      "text/plain": [
       "      Destination  Duration  Age  Net Sales Agency Type Agency Claim\n",
       "99       MALAYSIA         7  118       29.0    Airlines    ART    No\n",
       "105     INDONESIA        16  118       37.0    Airlines    JZI    No\n",
       "363         INDIA        12  118       39.0    Airlines    JWT    No\n",
       "373         INDIA         6  118       39.0    Airlines    JWT    No\n",
       "727         INDIA        76  118      100.0    Airlines    JWT    No\n",
       "...           ...       ...  ...        ...         ...    ...   ...\n",
       "44089       INDIA        42  118       31.0    Airlines    JWT    No\n",
       "44140       INDIA        84  118       93.0    Airlines    JWT    No\n",
       "44150       INDIA         5  118       39.0    Airlines    JWT    No\n",
       "44160       INDIA         0  118       31.0    Airlines    JWT    No\n",
       "44219       INDIA         5  118       31.0    Airlines    JWT    No\n",
       "\n",
       "[676 rows x 7 columns]"
      ]
     },
     "execution_count": 280,
     "metadata": {},
     "output_type": "execute_result"
    }
   ],
   "source": [
    "df[['Destination','Duration','Age','Net Sales','Agency Type','Agency','Claim']][df['Age']>100]"
   ]
  },
  {
   "cell_type": "markdown",
   "id": "068f140b",
   "metadata": {},
   "source": [
    "Data `Age` yang melebihi 100 menunjukkan banyaknya data berumur 118 tahun. Hal ini mungkin dapat disebabkan adanya sistem default pada computer yaitu 1/1/1900 saat memasukan tanggal yang disebabkan oleh human error atau adanya distribution channel/agency yang tidak mengambil tanggal lahir customer"
   ]
  },
  {
   "cell_type": "markdown",
   "id": "3fbe78ef",
   "metadata": {},
   "source": [
    "## Kategorik "
   ]
  },
  {
   "cell_type": "code",
   "execution_count": 281,
   "id": "f7151c6d",
   "metadata": {},
   "outputs": [
    {
     "data": {
      "text/html": [
       "<div>\n",
       "<style scoped>\n",
       "    .dataframe tbody tr th:only-of-type {\n",
       "        vertical-align: middle;\n",
       "    }\n",
       "\n",
       "    .dataframe tbody tr th {\n",
       "        vertical-align: top;\n",
       "    }\n",
       "\n",
       "    .dataframe thead th {\n",
       "        text-align: right;\n",
       "    }\n",
       "</style>\n",
       "<table border=\"1\" class=\"dataframe\">\n",
       "  <thead>\n",
       "    <tr style=\"text-align: right;\">\n",
       "      <th></th>\n",
       "      <th>Agency</th>\n",
       "      <th>Agency Type</th>\n",
       "      <th>Distribution Channel</th>\n",
       "      <th>Product Name</th>\n",
       "      <th>Gender</th>\n",
       "      <th>Destination</th>\n",
       "      <th>Claim</th>\n",
       "    </tr>\n",
       "  </thead>\n",
       "  <tbody>\n",
       "    <tr>\n",
       "      <th>count</th>\n",
       "      <td>44328</td>\n",
       "      <td>44328</td>\n",
       "      <td>44328</td>\n",
       "      <td>44328</td>\n",
       "      <td>12681</td>\n",
       "      <td>44328</td>\n",
       "      <td>44328</td>\n",
       "    </tr>\n",
       "    <tr>\n",
       "      <th>unique</th>\n",
       "      <td>16</td>\n",
       "      <td>2</td>\n",
       "      <td>2</td>\n",
       "      <td>26</td>\n",
       "      <td>2</td>\n",
       "      <td>138</td>\n",
       "      <td>2</td>\n",
       "    </tr>\n",
       "    <tr>\n",
       "      <th>top</th>\n",
       "      <td>EPX</td>\n",
       "      <td>Travel Agency</td>\n",
       "      <td>Online</td>\n",
       "      <td>Cancellation Plan</td>\n",
       "      <td>M</td>\n",
       "      <td>SINGAPORE</td>\n",
       "      <td>No</td>\n",
       "    </tr>\n",
       "    <tr>\n",
       "      <th>freq</th>\n",
       "      <td>24656</td>\n",
       "      <td>32113</td>\n",
       "      <td>43572</td>\n",
       "      <td>12979</td>\n",
       "      <td>6504</td>\n",
       "      <td>9267</td>\n",
       "      <td>43651</td>\n",
       "    </tr>\n",
       "  </tbody>\n",
       "</table>\n",
       "</div>"
      ],
      "text/plain": [
       "       Agency    Agency Type Distribution Channel       Product Name Gender  \\\n",
       "count   44328          44328                44328              44328  12681   \n",
       "unique     16              2                    2                 26      2   \n",
       "top       EPX  Travel Agency               Online  Cancellation Plan      M   \n",
       "freq    24656          32113                43572              12979   6504   \n",
       "\n",
       "       Destination  Claim  \n",
       "count        44328  44328  \n",
       "unique         138      2  \n",
       "top      SINGAPORE     No  \n",
       "freq          9267  43651  "
      ]
     },
     "execution_count": 281,
     "metadata": {},
     "output_type": "execute_result"
    }
   ],
   "source": [
    "df.describe(exclude='number')"
   ]
  },
  {
   "cell_type": "markdown",
   "id": "9b089d73",
   "metadata": {},
   "source": [
    "Data travel insurance memiliki 7 column kategorik yang memungkinkan bahwa data tersebut memiliki pengaruh yang kuat kepada `Net Sales`/`Claim`"
   ]
  },
  {
   "cell_type": "markdown",
   "id": "6d45cd2c",
   "metadata": {},
   "source": [
    "# Data Cleaning"
   ]
  },
  {
   "cell_type": "code",
   "execution_count": 282,
   "id": "ec501f1b",
   "metadata": {},
   "outputs": [],
   "source": [
    "df['Net Sales'] = np.abs(df['Net Sales'])\n",
    "premium=df.copy()\n",
    "cust_claim=df.copy()"
   ]
  },
  {
   "cell_type": "code",
   "execution_count": 283,
   "id": "814c5d06",
   "metadata": {},
   "outputs": [
    {
     "data": {
      "text/html": [
       "<div>\n",
       "<style scoped>\n",
       "    .dataframe tbody tr th:only-of-type {\n",
       "        vertical-align: middle;\n",
       "    }\n",
       "\n",
       "    .dataframe tbody tr th {\n",
       "        vertical-align: top;\n",
       "    }\n",
       "\n",
       "    .dataframe thead th {\n",
       "        text-align: right;\n",
       "    }\n",
       "</style>\n",
       "<table border=\"1\" class=\"dataframe\">\n",
       "  <thead>\n",
       "    <tr style=\"text-align: right;\">\n",
       "      <th></th>\n",
       "      <th>Duration</th>\n",
       "      <th>Net Sales</th>\n",
       "      <th>Commision (in value)</th>\n",
       "      <th>Age</th>\n",
       "    </tr>\n",
       "  </thead>\n",
       "  <tbody>\n",
       "    <tr>\n",
       "      <th>count</th>\n",
       "      <td>44328.000000</td>\n",
       "      <td>44328.000000</td>\n",
       "      <td>44328.000000</td>\n",
       "      <td>44328.000000</td>\n",
       "    </tr>\n",
       "    <tr>\n",
       "      <th>mean</th>\n",
       "      <td>49.424292</td>\n",
       "      <td>41.859638</td>\n",
       "      <td>9.707692</td>\n",
       "      <td>39.925600</td>\n",
       "    </tr>\n",
       "    <tr>\n",
       "      <th>std</th>\n",
       "      <td>109.153961</td>\n",
       "      <td>47.540877</td>\n",
       "      <td>19.625637</td>\n",
       "      <td>13.954926</td>\n",
       "    </tr>\n",
       "    <tr>\n",
       "      <th>min</th>\n",
       "      <td>-1.000000</td>\n",
       "      <td>0.000000</td>\n",
       "      <td>0.000000</td>\n",
       "      <td>0.000000</td>\n",
       "    </tr>\n",
       "    <tr>\n",
       "      <th>25%</th>\n",
       "      <td>9.000000</td>\n",
       "      <td>18.500000</td>\n",
       "      <td>0.000000</td>\n",
       "      <td>35.000000</td>\n",
       "    </tr>\n",
       "    <tr>\n",
       "      <th>50%</th>\n",
       "      <td>22.000000</td>\n",
       "      <td>27.000000</td>\n",
       "      <td>0.000000</td>\n",
       "      <td>36.000000</td>\n",
       "    </tr>\n",
       "    <tr>\n",
       "      <th>75%</th>\n",
       "      <td>53.000000</td>\n",
       "      <td>49.500000</td>\n",
       "      <td>11.550000</td>\n",
       "      <td>43.000000</td>\n",
       "    </tr>\n",
       "    <tr>\n",
       "      <th>max</th>\n",
       "      <td>4881.000000</td>\n",
       "      <td>810.000000</td>\n",
       "      <td>283.500000</td>\n",
       "      <td>118.000000</td>\n",
       "    </tr>\n",
       "  </tbody>\n",
       "</table>\n",
       "</div>"
      ],
      "text/plain": [
       "           Duration     Net Sales  Commision (in value)           Age\n",
       "count  44328.000000  44328.000000          44328.000000  44328.000000\n",
       "mean      49.424292     41.859638              9.707692     39.925600\n",
       "std      109.153961     47.540877             19.625637     13.954926\n",
       "min       -1.000000      0.000000              0.000000      0.000000\n",
       "25%        9.000000     18.500000              0.000000     35.000000\n",
       "50%       22.000000     27.000000              0.000000     36.000000\n",
       "75%       53.000000     49.500000             11.550000     43.000000\n",
       "max     4881.000000    810.000000            283.500000    118.000000"
      ]
     },
     "execution_count": 283,
     "metadata": {},
     "output_type": "execute_result"
    }
   ],
   "source": [
    "premium.describe() #target customer Net Sales Spending 49.50-810 dollars"
   ]
  },
  {
   "cell_type": "markdown",
   "id": "0e1e0751",
   "metadata": {},
   "source": [
    "# Data Pre-Processing"
   ]
  },
  {
   "cell_type": "markdown",
   "id": "08751aa1",
   "metadata": {},
   "source": [
    "untuk age ikutin aja yg di kids,adult, senior\n",
    "untuk data pre-processing pake aja data yg sama df_dummy\n",
    "pake 2 cara untuk identifikasi kira2 org ini akan klaim/nggak--> pake data yg beneran cuma high value cust yg klaim... atau semua org\n",
    "---> kelemahan klo gak nyambung...perlu buat sistem lagi untuk identifikasi harus 1(high value) dan 0(claim)--> mungkin ini sudah sebuah limitasi.... \n",
    "---> kelebihan klo nyambung... no need another system udh kefilter dan tiggal ambil pokoknya claim nya 0 atau nggak, lebih targeted tpi kelemahannya lebih rendah tingkat akurasinya...."
   ]
  },
  {
   "cell_type": "markdown",
   "id": "e60b6538",
   "metadata": {},
   "source": [
    " "
   ]
  },
  {
   "cell_type": "code",
   "execution_count": 284,
   "id": "76293666",
   "metadata": {},
   "outputs": [],
   "source": [
    "def NetSales_convert(NetSales):\n",
    "    result = ''\n",
    "    if(NetSales <= 49.4):\n",
    "        result = 0\n",
    "    else:\n",
    "        result = 1\n",
    "   \n",
    "    return result"
   ]
  },
  {
   "cell_type": "markdown",
   "id": "3331b320",
   "metadata": {},
   "source": [
    "Setelah Net Sales di adjust menggunakan absolut, kita dapat menentukan bahwa customer yang di definisikan sebagai premium adalah customer yang berada pada Q3 dan keatas $49.50-810. Oleh karena itu kita akan definisikan **Customer Premium sebagai 1* dan **Customer normal sebagai 0**"
   ]
  },
  {
   "cell_type": "code",
   "execution_count": 285,
   "id": "9341146b",
   "metadata": {},
   "outputs": [],
   "source": [
    "# Fungsi untuk data pre_processing customer premium\n",
    "\n",
    "def data_pre_processing(premium):\n",
    "    # Membuat nilai Net Sales menjadi 0 dan 1\n",
    "    premium['Net Sales'] = premium['Net Sales'].map(lambda x: NetSales_convert(x))\n",
    "\n",
    "    # Menghapus kolom Gender\n",
    "    premium.drop('Gender',axis =1, inplace=True)\n",
    "    \n",
    "    # Durasi yang memiliki nilai kurang dari nol akan diisi oleh angka median\n",
    "    premium['Duration'][premium['Duration'] < 0] = premium['Duration'].median()\n",
    "    \n",
    "    # Durasi untuk asuransi travelling sepantasnya tidak mencapai angka 4000 lebih, oleh karena itu kita akan mengambil \n",
    "    # maksimal 2 tahun dan menggangap tahun kedua adalah tahun kabisat\n",
    "    premium['Duration'][premium['Duration'] > 731] = 731\n",
    "    \n",
    "    #Mengubah angka 118 menggunakan angka rata-rata umur\n",
    "    premium['Age'][premium['Age'] >100] = premium['Age'].mean()\n",
    "    \n",
    "    premium['Agency Type']=np.where(premium['Agency Type']=='Airlines',1,0)\n",
    "    premium['Distribution Channel']=np.where(premium['Distribution Channel']=='Online',1,0)\n",
    "    premium['Claim']=np.where(premium['Claim']=='Yes',1,0)"
   ]
  },
  {
   "cell_type": "code",
   "execution_count": 286,
   "id": "e0850723",
   "metadata": {},
   "outputs": [
    {
     "name": "stderr",
     "output_type": "stream",
     "text": [
      "C:\\Users\\rosa\\AppData\\Local\\Temp\\ipykernel_9472\\3136014804.py:11: SettingWithCopyWarning: \n",
      "A value is trying to be set on a copy of a slice from a DataFrame\n",
      "\n",
      "See the caveats in the documentation: https://pandas.pydata.org/pandas-docs/stable/user_guide/indexing.html#returning-a-view-versus-a-copy\n",
      "  premium['Duration'][premium['Duration'] < 0] = premium['Duration'].median()\n",
      "C:\\Users\\rosa\\AppData\\Local\\Temp\\ipykernel_9472\\3136014804.py:15: SettingWithCopyWarning: \n",
      "A value is trying to be set on a copy of a slice from a DataFrame\n",
      "\n",
      "See the caveats in the documentation: https://pandas.pydata.org/pandas-docs/stable/user_guide/indexing.html#returning-a-view-versus-a-copy\n",
      "  premium['Duration'][premium['Duration'] > 731] = 731\n",
      "C:\\Users\\rosa\\AppData\\Local\\Temp\\ipykernel_9472\\3136014804.py:18: SettingWithCopyWarning: \n",
      "A value is trying to be set on a copy of a slice from a DataFrame\n",
      "\n",
      "See the caveats in the documentation: https://pandas.pydata.org/pandas-docs/stable/user_guide/indexing.html#returning-a-view-versus-a-copy\n",
      "  premium['Age'][premium['Age'] >100] = premium['Age'].mean()\n"
     ]
    }
   ],
   "source": [
    "data_pre_processing(premium)"
   ]
  },
  {
   "cell_type": "markdown",
   "id": "2c368956",
   "metadata": {},
   "source": [
    "### Identifikasi kemungkinan claim "
   ]
  },
  {
   "cell_type": "code",
   "execution_count": 287,
   "id": "c9c8be55",
   "metadata": {},
   "outputs": [],
   "source": [
    "# Identifikasi kemungkinan customer claim\n",
    "\n",
    "def data_pre_processing(cust_claim):\n",
    "\n",
    "    # Menghapus kolom Gender\n",
    "    cust_claim.drop('Gender',axis =1, inplace=True)\n",
    "    \n",
    "    # Durasi yang memiliki nilai kurang dari nol akan diisi oleh angka median\n",
    "    cust_claim['Duration'][cust_claim['Duration'] < 0] = cust_claim['Duration'].median()\n",
    "    \n",
    "    # Durasi untuk asuransi travelling sepantasnya tidak mencapai angka 4000 lebih, oleh karena itu kita akan mengambil \n",
    "    # maksimal 2 tahun dan menggangap tahun kedua adalah tahun kabisat\n",
    "    cust_claim ['Duration'][cust_claim['Duration'] > 731] = 731\n",
    "    \n",
    "    #Mengubah angka 118 menggunakan angka rata-rata umur\n",
    "    cust_claim['Age'][cust_claim['Age'] >100] = cust_claim['Age'].mean()\n",
    "    \n",
    "    cust_claim['Agency Type']=np.where(cust_claim['Agency Type']=='Airlines',1,0)\n",
    "    cust_claim['Distribution Channel']=np.where(cust_claim['Distribution Channel']=='Online',1,0)\n",
    "    cust_claim['Claim']=np.where(cust_claim['Claim']=='Yes',1,0)\n",
    "    \n",
    "    "
   ]
  },
  {
   "cell_type": "code",
   "execution_count": 288,
   "id": "04153f35",
   "metadata": {},
   "outputs": [
    {
     "name": "stderr",
     "output_type": "stream",
     "text": [
      "C:\\Users\\rosa\\AppData\\Local\\Temp\\ipykernel_9472\\743890012.py:9: SettingWithCopyWarning: \n",
      "A value is trying to be set on a copy of a slice from a DataFrame\n",
      "\n",
      "See the caveats in the documentation: https://pandas.pydata.org/pandas-docs/stable/user_guide/indexing.html#returning-a-view-versus-a-copy\n",
      "  cust_claim['Duration'][cust_claim['Duration'] < 0] = cust_claim['Duration'].median()\n",
      "C:\\Users\\rosa\\AppData\\Local\\Temp\\ipykernel_9472\\743890012.py:13: SettingWithCopyWarning: \n",
      "A value is trying to be set on a copy of a slice from a DataFrame\n",
      "\n",
      "See the caveats in the documentation: https://pandas.pydata.org/pandas-docs/stable/user_guide/indexing.html#returning-a-view-versus-a-copy\n",
      "  cust_claim ['Duration'][cust_claim['Duration'] > 731] = 731\n",
      "C:\\Users\\rosa\\AppData\\Local\\Temp\\ipykernel_9472\\743890012.py:16: SettingWithCopyWarning: \n",
      "A value is trying to be set on a copy of a slice from a DataFrame\n",
      "\n",
      "See the caveats in the documentation: https://pandas.pydata.org/pandas-docs/stable/user_guide/indexing.html#returning-a-view-versus-a-copy\n",
      "  cust_claim['Age'][cust_claim['Age'] >100] = cust_claim['Age'].mean()\n"
     ]
    }
   ],
   "source": [
    "data_pre_processing(cust_claim)"
   ]
  },
  {
   "cell_type": "markdown",
   "id": "10f2e0b2",
   "metadata": {},
   "source": [
    "Untuk mempersingkat processing, kita akan mengubah data yang hanya memiliki 2 value menjadi 0 dan 1"
   ]
  },
  {
   "cell_type": "markdown",
   "id": "f61f2ffe",
   "metadata": {},
   "source": [
    " "
   ]
  },
  {
   "cell_type": "markdown",
   "id": "e940abda",
   "metadata": {},
   "source": [
    "# Explanatory Data Analysis"
   ]
  },
  {
   "cell_type": "code",
   "execution_count": 289,
   "id": "7534a6c5",
   "metadata": {},
   "outputs": [
    {
     "name": "stderr",
     "output_type": "stream",
     "text": [
      "C:\\Users\\rosa\\AppData\\Local\\Temp\\ipykernel_9472\\3329510137.py:2: FutureWarning: The default value of numeric_only in DataFrame.corr is deprecated. In a future version, it will default to False. Select only valid columns or specify the value of numeric_only to silence this warning.\n",
      "  sns.heatmap(premium.corr(),annot=True)\n"
     ]
    },
    {
     "data": {
      "text/plain": [
       "<Axes: >"
      ]
     },
     "execution_count": 289,
     "metadata": {},
     "output_type": "execute_result"
    },
    {
     "data": {
      "image/png": "[encoded data removed]",
      "text/plain": [
       "<Figure size 700x700 with 2 Axes>"
      ]
     },
     "metadata": {},
     "output_type": "display_data"
    }
   ],
   "source": [
    "plt.figure(figsize=(7,7))\n",
    "sns.heatmap(premium.corr(),annot=True)"
   ]
  },
  {
   "cell_type": "code",
   "execution_count": 290,
   "id": "84ea841c",
   "metadata": {},
   "outputs": [
    {
     "name": "stderr",
     "output_type": "stream",
     "text": [
      "C:\\Users\\rosa\\AppData\\Local\\Temp\\ipykernel_9472\\137849448.py:2: FutureWarning: The default value of numeric_only in DataFrame.corr is deprecated. In a future version, it will default to False. Select only valid columns or specify the value of numeric_only to silence this warning.\n",
      "  sns.heatmap(cust_claim.corr(),annot=True)\n"
     ]
    },
    {
     "data": {
      "text/plain": [
       "<Axes: >"
      ]
     },
     "execution_count": 290,
     "metadata": {},
     "output_type": "execute_result"
    },
    {
     "data": {
      "image/png": "[encoded data removed]",
      "text/plain": [
       "<Figure size 700x700 with 2 Axes>"
      ]
     },
     "metadata": {},
     "output_type": "display_data"
    }
   ],
   "source": [
    "plt.figure(figsize=(7,7))\n",
    "sns.heatmap(cust_claim.corr(),annot=True)"
   ]
  },
  {
   "cell_type": "markdown",
   "id": "af8adeab",
   "metadata": {},
   "source": [
    "### Agencies dengan rata-rata Net Sales dan Claim Terbanyak"
   ]
  },
  {
   "cell_type": "code",
   "execution_count": 291,
   "id": "21142556",
   "metadata": {},
   "outputs": [
    {
     "data": {
      "text/html": [
       "<div>\n",
       "<style scoped>\n",
       "    .dataframe tbody tr th:only-of-type {\n",
       "        vertical-align: middle;\n",
       "    }\n",
       "\n",
       "    .dataframe tbody tr th {\n",
       "        vertical-align: top;\n",
       "    }\n",
       "\n",
       "    .dataframe thead th {\n",
       "        text-align: right;\n",
       "    }\n",
       "</style>\n",
       "<table border=\"1\" class=\"dataframe\">\n",
       "  <thead>\n",
       "    <tr style=\"text-align: right;\">\n",
       "      <th></th>\n",
       "      <th>Agency</th>\n",
       "      <th>Net Sales</th>\n",
       "    </tr>\n",
       "  </thead>\n",
       "  <tbody>\n",
       "    <tr>\n",
       "      <th>15</th>\n",
       "      <td>TTW</td>\n",
       "      <td>1.000000</td>\n",
       "    </tr>\n",
       "    <tr>\n",
       "      <th>0</th>\n",
       "      <td>ADM</td>\n",
       "      <td>0.763636</td>\n",
       "    </tr>\n",
       "    <tr>\n",
       "      <th>11</th>\n",
       "      <td>LWC</td>\n",
       "      <td>0.474725</td>\n",
       "    </tr>\n",
       "    <tr>\n",
       "      <th>6</th>\n",
       "      <td>CWT</td>\n",
       "      <td>0.439465</td>\n",
       "    </tr>\n",
       "    <tr>\n",
       "      <th>8</th>\n",
       "      <td>JWT</td>\n",
       "      <td>0.406130</td>\n",
       "    </tr>\n",
       "    <tr>\n",
       "      <th>10</th>\n",
       "      <td>KML</td>\n",
       "      <td>0.405694</td>\n",
       "    </tr>\n",
       "    <tr>\n",
       "      <th>2</th>\n",
       "      <td>C2B</td>\n",
       "      <td>0.403789</td>\n",
       "    </tr>\n",
       "    <tr>\n",
       "      <th>7</th>\n",
       "      <td>EPX</td>\n",
       "      <td>0.200032</td>\n",
       "    </tr>\n",
       "    <tr>\n",
       "      <th>1</th>\n",
       "      <td>ART</td>\n",
       "      <td>0.192140</td>\n",
       "    </tr>\n",
       "    <tr>\n",
       "      <th>9</th>\n",
       "      <td>JZI</td>\n",
       "      <td>0.108504</td>\n",
       "    </tr>\n",
       "  </tbody>\n",
       "</table>\n",
       "</div>"
      ],
      "text/plain": [
       "   Agency  Net Sales\n",
       "15    TTW   1.000000\n",
       "0     ADM   0.763636\n",
       "11    LWC   0.474725\n",
       "6     CWT   0.439465\n",
       "8     JWT   0.406130\n",
       "10    KML   0.405694\n",
       "2     C2B   0.403789\n",
       "7     EPX   0.200032\n",
       "1     ART   0.192140\n",
       "9     JZI   0.108504"
      ]
     },
     "execution_count": 291,
     "metadata": {},
     "output_type": "execute_result"
    }
   ],
   "source": [
    "netsales_mean = (premium.groupby('Agency', as_index=False)['Net Sales'].mean()).nlargest(10,'Net Sales')\n",
    "netsales_mean"
   ]
  },
  {
   "cell_type": "code",
   "execution_count": 292,
   "id": "1277ad6c",
   "metadata": {},
   "outputs": [
    {
     "data": {
      "text/html": [
       "<div>\n",
       "<style scoped>\n",
       "    .dataframe tbody tr th:only-of-type {\n",
       "        vertical-align: middle;\n",
       "    }\n",
       "\n",
       "    .dataframe tbody tr th {\n",
       "        vertical-align: top;\n",
       "    }\n",
       "\n",
       "    .dataframe thead th {\n",
       "        text-align: right;\n",
       "    }\n",
       "</style>\n",
       "<table border=\"1\" class=\"dataframe\">\n",
       "  <thead>\n",
       "    <tr style=\"text-align: right;\">\n",
       "      <th></th>\n",
       "      <th>Agency</th>\n",
       "      <th>Claim</th>\n",
       "    </tr>\n",
       "  </thead>\n",
       "  <tbody>\n",
       "    <tr>\n",
       "      <th>2</th>\n",
       "      <td>C2B</td>\n",
       "      <td>0.070746</td>\n",
       "    </tr>\n",
       "    <tr>\n",
       "      <th>11</th>\n",
       "      <td>LWC</td>\n",
       "      <td>0.063736</td>\n",
       "    </tr>\n",
       "    <tr>\n",
       "      <th>10</th>\n",
       "      <td>KML</td>\n",
       "      <td>0.017794</td>\n",
       "    </tr>\n",
       "    <tr>\n",
       "      <th>4</th>\n",
       "      <td>CCR</td>\n",
       "      <td>0.015873</td>\n",
       "    </tr>\n",
       "    <tr>\n",
       "      <th>5</th>\n",
       "      <td>CSR</td>\n",
       "      <td>0.014706</td>\n",
       "    </tr>\n",
       "    <tr>\n",
       "      <th>3</th>\n",
       "      <td>CBH</td>\n",
       "      <td>0.014493</td>\n",
       "    </tr>\n",
       "    <tr>\n",
       "      <th>15</th>\n",
       "      <td>TTW</td>\n",
       "      <td>0.014493</td>\n",
       "    </tr>\n",
       "    <tr>\n",
       "      <th>6</th>\n",
       "      <td>CWT</td>\n",
       "      <td>0.010702</td>\n",
       "    </tr>\n",
       "    <tr>\n",
       "      <th>8</th>\n",
       "      <td>JWT</td>\n",
       "      <td>0.007663</td>\n",
       "    </tr>\n",
       "    <tr>\n",
       "      <th>13</th>\n",
       "      <td>SSI</td>\n",
       "      <td>0.006536</td>\n",
       "    </tr>\n",
       "  </tbody>\n",
       "</table>\n",
       "</div>"
      ],
      "text/plain": [
       "   Agency     Claim\n",
       "2     C2B  0.070746\n",
       "11    LWC  0.063736\n",
       "10    KML  0.017794\n",
       "4     CCR  0.015873\n",
       "5     CSR  0.014706\n",
       "3     CBH  0.014493\n",
       "15    TTW  0.014493\n",
       "6     CWT  0.010702\n",
       "8     JWT  0.007663\n",
       "13    SSI  0.006536"
      ]
     },
     "execution_count": 292,
     "metadata": {},
     "output_type": "execute_result"
    }
   ],
   "source": [
    "Claim_mean = (cust_claim.groupby('Agency', as_index=False)['Claim'].mean()).nlargest(10,'Claim')\n",
    "Claim_mean"
   ]
  },
  {
   "cell_type": "markdown",
   "id": "4e4566b6",
   "metadata": {},
   "source": [
    "LWC adalah satu satunya agency yang membawa `Net Sales` tinggi tapi juga `Claim` yang tinggi"
   ]
  },
  {
   "cell_type": "markdown",
   "id": "a813ef9a",
   "metadata": {},
   "source": [
    "### Product Name dengan rata-rata Net Sales dan Claim terbanyak"
   ]
  },
  {
   "cell_type": "code",
   "execution_count": 293,
   "id": "aaaf6056",
   "metadata": {},
   "outputs": [
    {
     "data": {
      "text/html": [
       "<div>\n",
       "<style scoped>\n",
       "    .dataframe tbody tr th:only-of-type {\n",
       "        vertical-align: middle;\n",
       "    }\n",
       "\n",
       "    .dataframe tbody tr th {\n",
       "        vertical-align: top;\n",
       "    }\n",
       "\n",
       "    .dataframe thead th {\n",
       "        text-align: right;\n",
       "    }\n",
       "</style>\n",
       "<table border=\"1\" class=\"dataframe\">\n",
       "  <thead>\n",
       "    <tr style=\"text-align: right;\">\n",
       "      <th></th>\n",
       "      <th>Net Sales</th>\n",
       "    </tr>\n",
       "    <tr>\n",
       "      <th>Product Name</th>\n",
       "      <th></th>\n",
       "    </tr>\n",
       "  </thead>\n",
       "  <tbody>\n",
       "    <tr>\n",
       "      <th>Annual Travel Protect Gold</th>\n",
       "      <td>1.000000</td>\n",
       "    </tr>\n",
       "    <tr>\n",
       "      <th>Annual Travel Protect Platinum</th>\n",
       "      <td>1.000000</td>\n",
       "    </tr>\n",
       "    <tr>\n",
       "      <th>Child Comprehensive Plan</th>\n",
       "      <td>1.000000</td>\n",
       "    </tr>\n",
       "    <tr>\n",
       "      <th>Individual Comprehensive Plan</th>\n",
       "      <td>1.000000</td>\n",
       "    </tr>\n",
       "    <tr>\n",
       "      <th>Spouse or Parents Comprehensive Plan</th>\n",
       "      <td>1.000000</td>\n",
       "    </tr>\n",
       "    <tr>\n",
       "      <th>Annual Silver Plan</th>\n",
       "      <td>0.983590</td>\n",
       "    </tr>\n",
       "    <tr>\n",
       "      <th>Annual Travel Protect Silver</th>\n",
       "      <td>0.949153</td>\n",
       "    </tr>\n",
       "    <tr>\n",
       "      <th>Annual Gold Plan</th>\n",
       "      <td>0.943662</td>\n",
       "    </tr>\n",
       "    <tr>\n",
       "      <th>Gold Plan</th>\n",
       "      <td>0.637131</td>\n",
       "    </tr>\n",
       "    <tr>\n",
       "      <th>Premier Plan</th>\n",
       "      <td>0.600000</td>\n",
       "    </tr>\n",
       "  </tbody>\n",
       "</table>\n",
       "</div>"
      ],
      "text/plain": [
       "                                      Net Sales\n",
       "Product Name                                   \n",
       "Annual Travel Protect Gold             1.000000\n",
       "Annual Travel Protect Platinum         1.000000\n",
       "Child Comprehensive Plan               1.000000\n",
       "Individual Comprehensive Plan          1.000000\n",
       "Spouse or Parents Comprehensive Plan   1.000000\n",
       "Annual Silver Plan                     0.983590\n",
       "Annual Travel Protect Silver           0.949153\n",
       "Annual Gold Plan                       0.943662\n",
       "Gold Plan                              0.637131\n",
       "Premier Plan                           0.600000"
      ]
     },
     "execution_count": 293,
     "metadata": {},
     "output_type": "execute_result"
    }
   ],
   "source": [
    "premium.pivot_table(index = ['Product Name'], values = ['Net Sales'], aggfunc = 'mean').nlargest(10,'Net Sales')"
   ]
  },
  {
   "cell_type": "code",
   "execution_count": 294,
   "id": "9395d95e",
   "metadata": {},
   "outputs": [
    {
     "data": {
      "text/html": [
       "<div>\n",
       "<style scoped>\n",
       "    .dataframe tbody tr th:only-of-type {\n",
       "        vertical-align: middle;\n",
       "    }\n",
       "\n",
       "    .dataframe tbody tr th {\n",
       "        vertical-align: top;\n",
       "    }\n",
       "\n",
       "    .dataframe thead th {\n",
       "        text-align: right;\n",
       "    }\n",
       "</style>\n",
       "<table border=\"1\" class=\"dataframe\">\n",
       "  <thead>\n",
       "    <tr style=\"text-align: right;\">\n",
       "      <th></th>\n",
       "      <th>Claim</th>\n",
       "    </tr>\n",
       "    <tr>\n",
       "      <th>Product Name</th>\n",
       "      <th></th>\n",
       "    </tr>\n",
       "  </thead>\n",
       "  <tbody>\n",
       "    <tr>\n",
       "      <th>Annual Gold Plan</th>\n",
       "      <td>0.112676</td>\n",
       "    </tr>\n",
       "    <tr>\n",
       "      <th>Annual Silver Plan</th>\n",
       "      <td>0.111795</td>\n",
       "    </tr>\n",
       "    <tr>\n",
       "      <th>Annual Travel Protect Gold</th>\n",
       "      <td>0.111111</td>\n",
       "    </tr>\n",
       "    <tr>\n",
       "      <th>Single Trip Travel Protect Platinum</th>\n",
       "      <td>0.106383</td>\n",
       "    </tr>\n",
       "    <tr>\n",
       "      <th>Spouse or Parents Comprehensive Plan</th>\n",
       "      <td>0.076923</td>\n",
       "    </tr>\n",
       "    <tr>\n",
       "      <th>Silver Plan</th>\n",
       "      <td>0.069588</td>\n",
       "    </tr>\n",
       "    <tr>\n",
       "      <th>Annual Travel Protect Silver</th>\n",
       "      <td>0.067797</td>\n",
       "    </tr>\n",
       "    <tr>\n",
       "      <th>Annual Travel Protect Platinum</th>\n",
       "      <td>0.058824</td>\n",
       "    </tr>\n",
       "    <tr>\n",
       "      <th>Bronze Plan</th>\n",
       "      <td>0.056902</td>\n",
       "    </tr>\n",
       "    <tr>\n",
       "      <th>Single Trip Travel Protect Gold</th>\n",
       "      <td>0.051852</td>\n",
       "    </tr>\n",
       "  </tbody>\n",
       "</table>\n",
       "</div>"
      ],
      "text/plain": [
       "                                         Claim\n",
       "Product Name                                  \n",
       "Annual Gold Plan                      0.112676\n",
       "Annual Silver Plan                    0.111795\n",
       "Annual Travel Protect Gold            0.111111\n",
       "Single Trip Travel Protect Platinum   0.106383\n",
       "Spouse or Parents Comprehensive Plan  0.076923\n",
       "Silver Plan                           0.069588\n",
       "Annual Travel Protect Silver          0.067797\n",
       "Annual Travel Protect Platinum        0.058824\n",
       "Bronze Plan                           0.056902\n",
       "Single Trip Travel Protect Gold       0.051852"
      ]
     },
     "execution_count": 294,
     "metadata": {},
     "output_type": "execute_result"
    }
   ],
   "source": [
    "cust_claim.pivot_table(index = ['Product Name'], values = ['Claim'], aggfunc = 'mean').nlargest(10,'Claim')"
   ]
  },
  {
   "cell_type": "markdown",
   "id": "cdb1b346",
   "metadata": {},
   "source": [
    "Melalui data ini kita dapat melihat bahwa produk-produk yang memiliki Net Sales tinggi seperti \"Annual Travel Protect Gold\" dan \"Annual Travel Protect Platinum\" bukanlah produk yang memiliki top 3 Claim, sehingga masih banyak possibility untuk menargetkan customer yang membeli top 3 Net Sales Tertinggi"
   ]
  },
  {
   "cell_type": "markdown",
   "id": "cb8ba0d0",
   "metadata": {},
   "source": [
    "# Destination with maximum Value."
   ]
  },
  {
   "cell_type": "code",
   "execution_count": 295,
   "id": "3a28675b",
   "metadata": {},
   "outputs": [
    {
     "data": {
      "text/html": [
       "<div>\n",
       "<style scoped>\n",
       "    .dataframe tbody tr th:only-of-type {\n",
       "        vertical-align: middle;\n",
       "    }\n",
       "\n",
       "    .dataframe tbody tr th {\n",
       "        vertical-align: top;\n",
       "    }\n",
       "\n",
       "    .dataframe thead th {\n",
       "        text-align: right;\n",
       "    }\n",
       "</style>\n",
       "<table border=\"1\" class=\"dataframe\">\n",
       "  <thead>\n",
       "    <tr style=\"text-align: right;\">\n",
       "      <th></th>\n",
       "      <th>Destination</th>\n",
       "      <th>Net Sales</th>\n",
       "    </tr>\n",
       "  </thead>\n",
       "  <tbody>\n",
       "    <tr>\n",
       "      <th>14</th>\n",
       "      <td>BOTSWANA</td>\n",
       "      <td>1.0</td>\n",
       "    </tr>\n",
       "    <tr>\n",
       "      <th>19</th>\n",
       "      <td>CAMEROON</td>\n",
       "      <td>1.0</td>\n",
       "    </tr>\n",
       "    <tr>\n",
       "      <th>21</th>\n",
       "      <td>CAYMAN ISLANDS</td>\n",
       "      <td>1.0</td>\n",
       "    </tr>\n",
       "    <tr>\n",
       "      <th>30</th>\n",
       "      <td>DOMINICAN REPUBLIC</td>\n",
       "      <td>1.0</td>\n",
       "    </tr>\n",
       "    <tr>\n",
       "      <th>35</th>\n",
       "      <td>FAROE ISLANDS</td>\n",
       "      <td>1.0</td>\n",
       "    </tr>\n",
       "    <tr>\n",
       "      <th>39</th>\n",
       "      <td>FRENCH POLYNESIA</td>\n",
       "      <td>1.0</td>\n",
       "    </tr>\n",
       "    <tr>\n",
       "      <th>47</th>\n",
       "      <td>GUINEA-BISSAU</td>\n",
       "      <td>1.0</td>\n",
       "    </tr>\n",
       "    <tr>\n",
       "      <th>48</th>\n",
       "      <td>GUYANA</td>\n",
       "      <td>1.0</td>\n",
       "    </tr>\n",
       "    <tr>\n",
       "      <th>58</th>\n",
       "      <td>JAMAICA</td>\n",
       "      <td>1.0</td>\n",
       "    </tr>\n",
       "    <tr>\n",
       "      <th>66</th>\n",
       "      <td>KYRGYZSTAN</td>\n",
       "      <td>1.0</td>\n",
       "    </tr>\n",
       "  </tbody>\n",
       "</table>\n",
       "</div>"
      ],
      "text/plain": [
       "           Destination  Net Sales\n",
       "14            BOTSWANA        1.0\n",
       "19            CAMEROON        1.0\n",
       "21      CAYMAN ISLANDS        1.0\n",
       "30  DOMINICAN REPUBLIC        1.0\n",
       "35       FAROE ISLANDS        1.0\n",
       "39    FRENCH POLYNESIA        1.0\n",
       "47       GUINEA-BISSAU        1.0\n",
       "48              GUYANA        1.0\n",
       "58             JAMAICA        1.0\n",
       "66          KYRGYZSTAN        1.0"
      ]
     },
     "execution_count": 295,
     "metadata": {},
     "output_type": "execute_result"
    }
   ],
   "source": [
    "# Finding the Agencies with the Maximum Claims\n",
    "\n",
    "Destination_mean = (premium.groupby('Destination', as_index=False)['Net Sales'].mean()).nlargest(10,'Net Sales')\n",
    "Destination_mean"
   ]
  },
  {
   "cell_type": "code",
   "execution_count": 296,
   "id": "5a6b8a36",
   "metadata": {},
   "outputs": [
    {
     "data": {
      "text/html": [
       "<div>\n",
       "<style scoped>\n",
       "    .dataframe tbody tr th:only-of-type {\n",
       "        vertical-align: middle;\n",
       "    }\n",
       "\n",
       "    .dataframe tbody tr th {\n",
       "        vertical-align: top;\n",
       "    }\n",
       "\n",
       "    .dataframe thead th {\n",
       "        text-align: right;\n",
       "    }\n",
       "</style>\n",
       "<table border=\"1\" class=\"dataframe\">\n",
       "  <thead>\n",
       "    <tr style=\"text-align: right;\">\n",
       "      <th></th>\n",
       "      <th>Destination</th>\n",
       "      <th>Claim</th>\n",
       "    </tr>\n",
       "  </thead>\n",
       "  <tbody>\n",
       "    <tr>\n",
       "      <th>25</th>\n",
       "      <td>COSTA RICA</td>\n",
       "      <td>0.250000</td>\n",
       "    </tr>\n",
       "    <tr>\n",
       "      <th>28</th>\n",
       "      <td>CZECH REPUBLIC</td>\n",
       "      <td>0.046512</td>\n",
       "    </tr>\n",
       "    <tr>\n",
       "      <th>110</th>\n",
       "      <td>SINGAPORE</td>\n",
       "      <td>0.044998</td>\n",
       "    </tr>\n",
       "    <tr>\n",
       "      <th>51</th>\n",
       "      <td>ICELAND</td>\n",
       "      <td>0.037975</td>\n",
       "    </tr>\n",
       "    <tr>\n",
       "      <th>56</th>\n",
       "      <td>ISRAEL</td>\n",
       "      <td>0.030303</td>\n",
       "    </tr>\n",
       "    <tr>\n",
       "      <th>57</th>\n",
       "      <td>ITALY</td>\n",
       "      <td>0.018987</td>\n",
       "    </tr>\n",
       "    <tr>\n",
       "      <th>124</th>\n",
       "      <td>TURKEY</td>\n",
       "      <td>0.018182</td>\n",
       "    </tr>\n",
       "    <tr>\n",
       "      <th>112</th>\n",
       "      <td>SOUTH AFRICA</td>\n",
       "      <td>0.017699</td>\n",
       "    </tr>\n",
       "    <tr>\n",
       "      <th>38</th>\n",
       "      <td>FRANCE</td>\n",
       "      <td>0.017595</td>\n",
       "    </tr>\n",
       "    <tr>\n",
       "      <th>130</th>\n",
       "      <td>UNITED STATES</td>\n",
       "      <td>0.016638</td>\n",
       "    </tr>\n",
       "  </tbody>\n",
       "</table>\n",
       "</div>"
      ],
      "text/plain": [
       "        Destination     Claim\n",
       "25       COSTA RICA  0.250000\n",
       "28   CZECH REPUBLIC  0.046512\n",
       "110       SINGAPORE  0.044998\n",
       "51          ICELAND  0.037975\n",
       "56           ISRAEL  0.030303\n",
       "57            ITALY  0.018987\n",
       "124          TURKEY  0.018182\n",
       "112    SOUTH AFRICA  0.017699\n",
       "38           FRANCE  0.017595\n",
       "130   UNITED STATES  0.016638"
      ]
     },
     "execution_count": 296,
     "metadata": {},
     "output_type": "execute_result"
    }
   ],
   "source": [
    "# Finding the Agencies with the Maximum Claims\n",
    "\n",
    "Destination_mean2 = (cust_claim.groupby('Destination', as_index=False)['Claim'].mean()).nlargest(10,'Claim')\n",
    "Destination_mean2"
   ]
  },
  {
   "cell_type": "markdown",
   "id": "f280d32c",
   "metadata": {},
   "source": [
    " "
   ]
  },
  {
   "cell_type": "markdown",
   "id": "1be101f0",
   "metadata": {},
   "source": [
    "`Net Sales` tertinggi di dominasi oleh negara dunia ketiga, yang hanya dikunjungi oleh orang yang _Well-Travelled_ sedangkan dan biasa dinilai tidak aman karena kurangnya infrasturktur yang baik. Uniknya negara dunia ketiga ini tidak ada yang masuk pada \"TOP Claim\", dan claim terbanyak dilakukan oleh customer yang mengunjungi negara yang maju dan sering dikunjungi turis."
   ]
  },
  {
   "cell_type": "markdown",
   "id": "c51d9bf1",
   "metadata": {},
   "source": [
    "# Feature Engineering"
   ]
  },
  {
   "cell_type": "code",
   "execution_count": 297,
   "id": "19aaaa28",
   "metadata": {},
   "outputs": [],
   "source": [
    "def feature_processing(encoding):\n",
    "    # Converting all categorical columns into numeric using frequency encoding, label encoding and one-hot encoding.\n",
    "    fe = encoding.groupby('Destination').size()/len(encoding)\n",
    "    encoding.loc[:,'Dest_fe'] = encoding['Destination'].map(fe)\n",
    "    fe_1 = encoding.groupby('Agency').size()/len(encoding)\n",
    "    encoding.loc[:,'Agency_fe'] = encoding['Agency'].map(fe_1)\n",
    "    fe_2 = encoding.groupby('Product Name').size()/len(encoding)    \n",
    "    encoding.loc[:,'Product Name_fe'] = encoding['Product Name'].map(fe_2)\n",
    "    encoding.drop(columns='Agency',axis=1,inplace=True)\n",
    "    encoding.drop(columns='Destination',axis=1,inplace=True)\n",
    "    encoding.drop(columns='Product Name',axis=1,inplace=True)"
   ]
  },
  {
   "cell_type": "markdown",
   "id": "af838cf1",
   "metadata": {},
   "source": [
    "###  Net Sales Data"
   ]
  },
  {
   "cell_type": "code",
   "execution_count": 298,
   "id": "654571aa",
   "metadata": {},
   "outputs": [],
   "source": [
    "feature_processing(premium)"
   ]
  },
  {
   "cell_type": "code",
   "execution_count": 299,
   "id": "c612cff7",
   "metadata": {},
   "outputs": [
    {
     "data": {
      "text/html": [
       "<div>\n",
       "<style scoped>\n",
       "    .dataframe tbody tr th:only-of-type {\n",
       "        vertical-align: middle;\n",
       "    }\n",
       "\n",
       "    .dataframe tbody tr th {\n",
       "        vertical-align: top;\n",
       "    }\n",
       "\n",
       "    .dataframe thead th {\n",
       "        text-align: right;\n",
       "    }\n",
       "</style>\n",
       "<table border=\"1\" class=\"dataframe\">\n",
       "  <thead>\n",
       "    <tr style=\"text-align: right;\">\n",
       "      <th></th>\n",
       "      <th>Agency Type</th>\n",
       "      <th>Distribution Channel</th>\n",
       "      <th>Duration</th>\n",
       "      <th>Net Sales</th>\n",
       "      <th>Commision (in value)</th>\n",
       "      <th>Age</th>\n",
       "      <th>Claim</th>\n",
       "      <th>Dest_fe</th>\n",
       "      <th>Agency_fe</th>\n",
       "      <th>Product Name_fe</th>\n",
       "    </tr>\n",
       "  </thead>\n",
       "  <tbody>\n",
       "    <tr>\n",
       "      <th>0</th>\n",
       "      <td>1</td>\n",
       "      <td>1</td>\n",
       "      <td>365</td>\n",
       "      <td>1</td>\n",
       "      <td>54.0</td>\n",
       "      <td>57.0</td>\n",
       "      <td>0</td>\n",
       "      <td>0.209055</td>\n",
       "      <td>0.129783</td>\n",
       "      <td>0.021995</td>\n",
       "    </tr>\n",
       "    <tr>\n",
       "      <th>1</th>\n",
       "      <td>0</td>\n",
       "      <td>1</td>\n",
       "      <td>4</td>\n",
       "      <td>0</td>\n",
       "      <td>0.0</td>\n",
       "      <td>33.0</td>\n",
       "      <td>0</td>\n",
       "      <td>0.093372</td>\n",
       "      <td>0.556217</td>\n",
       "      <td>0.292795</td>\n",
       "    </tr>\n",
       "    <tr>\n",
       "      <th>2</th>\n",
       "      <td>1</td>\n",
       "      <td>1</td>\n",
       "      <td>19</td>\n",
       "      <td>0</td>\n",
       "      <td>7.7</td>\n",
       "      <td>26.0</td>\n",
       "      <td>0</td>\n",
       "      <td>0.035463</td>\n",
       "      <td>0.100005</td>\n",
       "      <td>0.086492</td>\n",
       "    </tr>\n",
       "    <tr>\n",
       "      <th>3</th>\n",
       "      <td>0</td>\n",
       "      <td>1</td>\n",
       "      <td>20</td>\n",
       "      <td>1</td>\n",
       "      <td>0.0</td>\n",
       "      <td>59.0</td>\n",
       "      <td>0</td>\n",
       "      <td>0.039321</td>\n",
       "      <td>0.556217</td>\n",
       "      <td>0.210725</td>\n",
       "    </tr>\n",
       "    <tr>\n",
       "      <th>4</th>\n",
       "      <td>1</td>\n",
       "      <td>1</td>\n",
       "      <td>8</td>\n",
       "      <td>0</td>\n",
       "      <td>4.0</td>\n",
       "      <td>28.0</td>\n",
       "      <td>0</td>\n",
       "      <td>0.209055</td>\n",
       "      <td>0.129783</td>\n",
       "      <td>0.064226</td>\n",
       "    </tr>\n",
       "  </tbody>\n",
       "</table>\n",
       "</div>"
      ],
      "text/plain": [
       "   Agency Type  Distribution Channel  Duration  Net Sales  \\\n",
       "0            1                     1       365          1   \n",
       "1            0                     1         4          0   \n",
       "2            1                     1        19          0   \n",
       "3            0                     1        20          1   \n",
       "4            1                     1         8          0   \n",
       "\n",
       "   Commision (in value)   Age  Claim   Dest_fe  Agency_fe  Product Name_fe  \n",
       "0                  54.0  57.0      0  0.209055   0.129783         0.021995  \n",
       "1                   0.0  33.0      0  0.093372   0.556217         0.292795  \n",
       "2                   7.7  26.0      0  0.035463   0.100005         0.086492  \n",
       "3                   0.0  59.0      0  0.039321   0.556217         0.210725  \n",
       "4                   4.0  28.0      0  0.209055   0.129783         0.064226  "
      ]
     },
     "execution_count": 299,
     "metadata": {},
     "output_type": "execute_result"
    }
   ],
   "source": [
    "premium.head(5)"
   ]
  },
  {
   "cell_type": "code",
   "execution_count": 300,
   "id": "2a1cbc98",
   "metadata": {},
   "outputs": [],
   "source": [
    "X = premium.drop(['Net Sales','Claim'], axis = 1)\n",
    "y = premium['Net Sales']"
   ]
  },
  {
   "cell_type": "markdown",
   "id": "b359bd7a",
   "metadata": {},
   "source": [
    " "
   ]
  },
  {
   "cell_type": "code",
   "execution_count": 301,
   "id": "ceee80cd",
   "metadata": {},
   "outputs": [],
   "source": [
    "from imblearn.pipeline import Pipeline\n",
    "from sklearn.model_selection import StratifiedKFold,cross_val_score\n",
    "from imblearn.over_sampling import RandomOverSampler\n",
    "from imblearn.under_sampling import RandomUnderSampler"
   ]
  },
  {
   "cell_type": "markdown",
   "id": "3911e260",
   "metadata": {},
   "source": [
    "#### Train Test Split "
   ]
  },
  {
   "cell_type": "code",
   "execution_count": 302,
   "id": "b9f80fcd",
   "metadata": {},
   "outputs": [],
   "source": [
    "X_trainval, X_test, y_trainval, y_test = train_test_split(\n",
    "    X,\n",
    "    y, \n",
    "    stratify=y,  \n",
    "    train_size = 0.2,\n",
    "    random_state = 2020\n",
    ")"
   ]
  },
  {
   "cell_type": "code",
   "execution_count": 303,
   "id": "82ab1149",
   "metadata": {},
   "outputs": [],
   "source": [
    " X_train, X_val, y_train, y_val = train_test_split(\n",
    "    X_trainval,\n",
    "    y_trainval, \n",
    "    stratify=y_trainval,  \n",
    "    test_size = 0.2,\n",
    "    random_state = 2020\n",
    ")"
   ]
  },
  {
   "cell_type": "markdown",
   "id": "9ba873e0",
   "metadata": {},
   "source": [
    "#### Random Forest Classifier"
   ]
  },
  {
   "cell_type": "code",
   "execution_count": 304,
   "id": "451d6466",
   "metadata": {},
   "outputs": [
    {
     "name": "stdout",
     "output_type": "stream",
     "text": [
      "0.8894058596283451\n",
      "              precision    recall  f1-score   support\n",
      "\n",
      "           0       0.92      0.94      0.93     26595\n",
      "           1       0.80      0.74      0.77      8868\n",
      "\n",
      "    accuracy                           0.89     35463\n",
      "   macro avg       0.86      0.84      0.85     35463\n",
      "weighted avg       0.89      0.89      0.89     35463\n",
      "\n"
     ]
    }
   ],
   "source": [
    "rf = RandomForestClassifier()\n",
    "rf.fit(X_train, y_train)\n",
    "y_pred_rf = rf.predict(X_test)\n",
    "print(accuracy_score(y_test, y_pred_rf))\n",
    "print(classification_report(y_test, y_pred_rf))"
   ]
  },
  {
   "cell_type": "markdown",
   "id": "b4f80607",
   "metadata": {},
   "source": [
    "###### Random Forest-Cross Validation (Over Sampler) "
   ]
  },
  {
   "cell_type": "code",
   "execution_count": 305,
   "id": "430f7645",
   "metadata": {},
   "outputs": [
    {
     "name": "stdout",
     "output_type": "stream",
     "text": [
      "Hasil Cross Validasi [0.76972973 0.7645126  0.74439462 0.766191   0.7383279 ]\n",
      "rata-rata skor validasii 0.7566311695511392\n",
      "standar deviasi skor validasi 0.012726524922706036\n"
     ]
    }
   ],
   "source": [
    "ros = RandomOverSampler()\n",
    "\n",
    "pipe_model=Pipeline([\n",
    "    ('balance',ros),\n",
    "    ('cif',rf)\n",
    "])\n",
    "skf=StratifiedKFold(n_splits=5) \n",
    "rf_ros_cv=cross_val_score(pipe_model,X_trainval,y_trainval, cv=skf, scoring='f1')\n",
    "print('Hasil Cross Validasi',rf_ros_cv)\n",
    "print('rata-rata skor validasii',rf_ros_cv.mean())\n",
    "print('standar deviasi skor validasi',rf_ros_cv.std())"
   ]
  },
  {
   "cell_type": "code",
   "execution_count": 326,
   "id": "ca324da7",
   "metadata": {},
   "outputs": [
    {
     "name": "stdout",
     "output_type": "stream",
     "text": [
      "Confusion Matrix: \n",
      " [[24989  1606]\n",
      " [ 2316  6552]]\n",
      "Classification Report: \n",
      "               precision    recall  f1-score   support\n",
      "\n",
      "           0       0.92      0.94      0.93     26595\n",
      "           1       0.80      0.74      0.77      8868\n",
      "\n",
      "    accuracy                           0.89     35463\n",
      "   macro avg       0.86      0.84      0.85     35463\n",
      "weighted avg       0.89      0.89      0.89     35463\n",
      "\n"
     ]
    }
   ],
   "source": [
    "from sklearn.metrics import confusion_matrix\n",
    "pipe_model.fit(X_train,y_train)\n",
    "y_pred =rf.predict(X_test)\n",
    "cmb = confusion_matrix(y_test,y_pred)\n",
    "print('Confusion Matrix: \\n',cmb)\n",
    "print('Classification Report: \\n',classification_report(y_test,y_pred))"
   ]
  },
  {
   "cell_type": "code",
   "execution_count": 327,
   "id": "13a2123e",
   "metadata": {},
   "outputs": [
    {
     "data": {
      "text/plain": [
       "<Axes: >"
      ]
     },
     "execution_count": 327,
     "metadata": {},
     "output_type": "execute_result"
    },
    {
     "data": {
      "image/png": "[encoded data removed]",
      "text/plain": [
       "<Figure size 1000x500 with 2 Axes>"
      ]
     },
     "metadata": {},
     "output_type": "display_data"
    }
   ],
   "source": [
    "group_names = ['True Neg','False Pos','False Neg','True Pos']\n",
    "group_counts = [\"{0:0.0f}\".format(value) for value in\n",
    "                cmb.flatten()]\n",
    "group_percentages = [\"{0:.2%}\".format(value) for value in\n",
    "                     cmb.flatten()/np.sum(cmb)]\n",
    "labels = [f\"{v1}\\n{v2}\\n{v3}\" for v1, v2, v3 in\n",
    "          zip(group_names,group_counts,group_percentages)]\n",
    "labels = np.asarray(labels).reshape(2,2)\n",
    "plt.figure(figsize=(10, 5))\n",
    "sns.heatmap(cmb, annot=labels, fmt='', cmap='Blues')"
   ]
  },
  {
   "cell_type": "markdown",
   "id": "3d4dad6a",
   "metadata": {},
   "source": [
    "Hasil test model menunnjukkan bahwa prediksi 1 yang tidak benar ada pada 6.53%"
   ]
  },
  {
   "cell_type": "markdown",
   "id": "d2d271a5",
   "metadata": {},
   "source": [
    "###### Random Forest- Cross Validation (Under Sampler)"
   ]
  },
  {
   "cell_type": "code",
   "execution_count": 306,
   "id": "e5a265f4",
   "metadata": {},
   "outputs": [
    {
     "name": "stdout",
     "output_type": "stream",
     "text": [
      "Hasil Cross Validasi [0.75147929 0.7524558  0.74051896 0.71564885 0.71580989]\n",
      "rata-rata skor validasii 0.7351825591927554\n",
      "standar deviasi skor validasi 0.016427362003427575\n"
     ]
    }
   ],
   "source": [
    "# rus = RandomUnderSampler()\n",
    "\n",
    "# pipe_model=Pipeline([\n",
    "#     ('balance',rus),\n",
    "#     ('cif',rf)\n",
    "# ])\n",
    "# skf=StratifiedKFold(n_splits=5) \n",
    "# rf_rus_cv=cross_val_score(pipe_model,X_trainval,y_trainval, cv=skf, scoring='f1')\n",
    "# print('Hasil Cross Validasi',rf_rus_cv)\n",
    "# print('rata-rata skor validasii',rf_rus_cv.mean())\n",
    "# print('standar deviasi skor validasi',rf_rus_cv.std())"
   ]
  },
  {
   "cell_type": "markdown",
   "id": "aa975545",
   "metadata": {},
   "source": [
    "#### Logistic Reggression "
   ]
  },
  {
   "cell_type": "code",
   "execution_count": 307,
   "id": "552b9763",
   "metadata": {},
   "outputs": [
    {
     "name": "stdout",
     "output_type": "stream",
     "text": [
      "0.8445140005075713\n",
      "              precision    recall  f1-score   support\n",
      "\n",
      "           0       0.84      0.98      0.90     26595\n",
      "           1       0.90      0.43      0.58      8868\n",
      "\n",
      "    accuracy                           0.84     35463\n",
      "   macro avg       0.87      0.70      0.74     35463\n",
      "weighted avg       0.85      0.84      0.82     35463\n",
      "\n"
     ]
    },
    {
     "name": "stderr",
     "output_type": "stream",
     "text": [
      "C:\\Users\\rosa\\anaconda3\\Lib\\site-packages\\sklearn\\linear_model\\_logistic.py:458: ConvergenceWarning: lbfgs failed to converge (status=1):\n",
      "STOP: TOTAL NO. of ITERATIONS REACHED LIMIT.\n",
      "\n",
      "Increase the number of iterations (max_iter) or scale the data as shown in:\n",
      "    https://scikit-learn.org/stable/modules/preprocessing.html\n",
      "Please also refer to the documentation for alternative solver options:\n",
      "    https://scikit-learn.org/stable/modules/linear_model.html#logistic-regression\n",
      "  n_iter_i = _check_optimize_result(\n"
     ]
    }
   ],
   "source": [
    "# logr1 = LogisticRegression()\n",
    "# logr1.fit(X_train,y_train)\n",
    "# y_pred = logr1.predict(X_test)\n",
    "# print(accuracy_score(y_test, y_pred))\n",
    "print(classification_report(y_test, y_pred))"
   ]
  },
  {
   "cell_type": "markdown",
   "id": "dbfa1e49",
   "metadata": {},
   "source": [
    "###### Logisctic Regression-OverSampler"
   ]
  },
  {
   "cell_type": "code",
   "execution_count": 308,
   "id": "6510d201",
   "metadata": {},
   "outputs": [
    {
     "name": "stderr",
     "output_type": "stream",
     "text": [
      "C:\\Users\\rosa\\anaconda3\\Lib\\site-packages\\sklearn\\linear_model\\_logistic.py:458: ConvergenceWarning: lbfgs failed to converge (status=1):\n",
      "STOP: TOTAL NO. of ITERATIONS REACHED LIMIT.\n",
      "\n",
      "Increase the number of iterations (max_iter) or scale the data as shown in:\n",
      "    https://scikit-learn.org/stable/modules/preprocessing.html\n",
      "Please also refer to the documentation for alternative solver options:\n",
      "    https://scikit-learn.org/stable/modules/linear_model.html#logistic-regression\n",
      "  n_iter_i = _check_optimize_result(\n",
      "C:\\Users\\rosa\\anaconda3\\Lib\\site-packages\\sklearn\\linear_model\\_logistic.py:458: ConvergenceWarning: lbfgs failed to converge (status=1):\n",
      "STOP: TOTAL NO. of ITERATIONS REACHED LIMIT.\n",
      "\n",
      "Increase the number of iterations (max_iter) or scale the data as shown in:\n",
      "    https://scikit-learn.org/stable/modules/preprocessing.html\n",
      "Please also refer to the documentation for alternative solver options:\n",
      "    https://scikit-learn.org/stable/modules/linear_model.html#logistic-regression\n",
      "  n_iter_i = _check_optimize_result(\n",
      "C:\\Users\\rosa\\anaconda3\\Lib\\site-packages\\sklearn\\linear_model\\_logistic.py:458: ConvergenceWarning: lbfgs failed to converge (status=1):\n",
      "STOP: TOTAL NO. of ITERATIONS REACHED LIMIT.\n",
      "\n",
      "Increase the number of iterations (max_iter) or scale the data as shown in:\n",
      "    https://scikit-learn.org/stable/modules/preprocessing.html\n",
      "Please also refer to the documentation for alternative solver options:\n",
      "    https://scikit-learn.org/stable/modules/linear_model.html#logistic-regression\n",
      "  n_iter_i = _check_optimize_result(\n",
      "C:\\Users\\rosa\\anaconda3\\Lib\\site-packages\\sklearn\\linear_model\\_logistic.py:458: ConvergenceWarning: lbfgs failed to converge (status=1):\n",
      "STOP: TOTAL NO. of ITERATIONS REACHED LIMIT.\n",
      "\n",
      "Increase the number of iterations (max_iter) or scale the data as shown in:\n",
      "    https://scikit-learn.org/stable/modules/preprocessing.html\n",
      "Please also refer to the documentation for alternative solver options:\n",
      "    https://scikit-learn.org/stable/modules/linear_model.html#logistic-regression\n",
      "  n_iter_i = _check_optimize_result(\n"
     ]
    },
    {
     "name": "stdout",
     "output_type": "stream",
     "text": [
      "[0.65517241 0.68957346 0.62387677 0.65446224 0.62206573]\n",
      "0.6490301217709286\n",
      "Hasil Cross Validasi [0.65517241 0.68957346 0.62387677 0.65446224 0.62206573]\n",
      "rata-rata skor validasii 0.6490301217709286\n",
      "standar deviasi skor validasi 0.02478212194130793\n"
     ]
    },
    {
     "name": "stderr",
     "output_type": "stream",
     "text": [
      "C:\\Users\\rosa\\anaconda3\\Lib\\site-packages\\sklearn\\linear_model\\_logistic.py:458: ConvergenceWarning: lbfgs failed to converge (status=1):\n",
      "STOP: TOTAL NO. of ITERATIONS REACHED LIMIT.\n",
      "\n",
      "Increase the number of iterations (max_iter) or scale the data as shown in:\n",
      "    https://scikit-learn.org/stable/modules/preprocessing.html\n",
      "Please also refer to the documentation for alternative solver options:\n",
      "    https://scikit-learn.org/stable/modules/linear_model.html#logistic-regression\n",
      "  n_iter_i = _check_optimize_result(\n"
     ]
    }
   ],
   "source": [
    "# ros = RandomOverSampler()\n",
    "\n",
    "# pipe_model=Pipeline([\n",
    "#     ('balance',ros),\n",
    "#     ('cif',logr1)\n",
    "# ])\n",
    "# skf=StratifiedKFold(n_splits=5) \n",
    "# logr1_ros_cv=cross_val_score(pipe_model,X_trainval,y_trainval, cv=skf, scoring='f1')\n",
    "# print(logr1_ros_cv)\n",
    "# print(logr1_ros_cv.mean())\n",
    "# print('Hasil Cross Validasi',logr1_ros_cv)\n",
    "# print('rata-rata skor validasii',logr1_ros_cv.mean())\n",
    "# print('standar deviasi skor validasi',logr1_ros_cv.std())"
   ]
  },
  {
   "cell_type": "markdown",
   "id": "620dda61",
   "metadata": {},
   "source": [
    "##### Logistic Reggression-Under Sampler"
   ]
  },
  {
   "cell_type": "code",
   "execution_count": 309,
   "id": "f5cfb9c2",
   "metadata": {},
   "outputs": [
    {
     "name": "stderr",
     "output_type": "stream",
     "text": [
      "C:\\Users\\rosa\\anaconda3\\Lib\\site-packages\\sklearn\\linear_model\\_logistic.py:458: ConvergenceWarning: lbfgs failed to converge (status=1):\n",
      "STOP: TOTAL NO. of ITERATIONS REACHED LIMIT.\n",
      "\n",
      "Increase the number of iterations (max_iter) or scale the data as shown in:\n",
      "    https://scikit-learn.org/stable/modules/preprocessing.html\n",
      "Please also refer to the documentation for alternative solver options:\n",
      "    https://scikit-learn.org/stable/modules/linear_model.html#logistic-regression\n",
      "  n_iter_i = _check_optimize_result(\n"
     ]
    },
    {
     "name": "stdout",
     "output_type": "stream",
     "text": [
      "Hasil Cross Validasi [0.63425926 0.68280872 0.60869565 0.63510393 0.61162791]\n",
      "rata-rata skor validasii 0.6344990922427872\n",
      "standar deviasi skor validasi 0.026544874437782494\n"
     ]
    },
    {
     "name": "stderr",
     "output_type": "stream",
     "text": [
      "C:\\Users\\rosa\\anaconda3\\Lib\\site-packages\\sklearn\\linear_model\\_logistic.py:458: ConvergenceWarning: lbfgs failed to converge (status=1):\n",
      "STOP: TOTAL NO. of ITERATIONS REACHED LIMIT.\n",
      "\n",
      "Increase the number of iterations (max_iter) or scale the data as shown in:\n",
      "    https://scikit-learn.org/stable/modules/preprocessing.html\n",
      "Please also refer to the documentation for alternative solver options:\n",
      "    https://scikit-learn.org/stable/modules/linear_model.html#logistic-regression\n",
      "  n_iter_i = _check_optimize_result(\n",
      "C:\\Users\\rosa\\anaconda3\\Lib\\site-packages\\sklearn\\linear_model\\_logistic.py:458: ConvergenceWarning: lbfgs failed to converge (status=1):\n",
      "STOP: TOTAL NO. of ITERATIONS REACHED LIMIT.\n",
      "\n",
      "Increase the number of iterations (max_iter) or scale the data as shown in:\n",
      "    https://scikit-learn.org/stable/modules/preprocessing.html\n",
      "Please also refer to the documentation for alternative solver options:\n",
      "    https://scikit-learn.org/stable/modules/linear_model.html#logistic-regression\n",
      "  n_iter_i = _check_optimize_result(\n"
     ]
    }
   ],
   "source": [
    "# rus = RandomUnderSampler()\n",
    "\n",
    "# pipe_model=Pipeline([\n",
    "#     ('balance',rus),\n",
    "#     ('cif',logr1)\n",
    "# ])\n",
    "# skf=StratifiedKFold(n_splits=5) \n",
    "# logr1_rus_cv=cross_val_score(pipe_model,X_trainval,y_trainval, cv=skf, scoring='f1')\n",
    "# print('Hasil Cross Validasi',logr1_rus_cv)\n",
    "# print('rata-rata skor validasii',logr1_rus_cv.mean())\n",
    "# print('standar deviasi skor validasi',logr1_rus_cv.std())"
   ]
  },
  {
   "cell_type": "markdown",
   "id": "a3c42195",
   "metadata": {},
   "source": [
    "### Claim"
   ]
  },
  {
   "cell_type": "code",
   "execution_count": 310,
   "id": "6d8f4a75",
   "metadata": {},
   "outputs": [],
   "source": [
    "feature_processing(cust_claim)"
   ]
  },
  {
   "cell_type": "code",
   "execution_count": 311,
   "id": "612abd0f",
   "metadata": {},
   "outputs": [
    {
     "data": {
      "text/html": [
       "<div>\n",
       "<style scoped>\n",
       "    .dataframe tbody tr th:only-of-type {\n",
       "        vertical-align: middle;\n",
       "    }\n",
       "\n",
       "    .dataframe tbody tr th {\n",
       "        vertical-align: top;\n",
       "    }\n",
       "\n",
       "    .dataframe thead th {\n",
       "        text-align: right;\n",
       "    }\n",
       "</style>\n",
       "<table border=\"1\" class=\"dataframe\">\n",
       "  <thead>\n",
       "    <tr style=\"text-align: right;\">\n",
       "      <th></th>\n",
       "      <th>Agency Type</th>\n",
       "      <th>Distribution Channel</th>\n",
       "      <th>Duration</th>\n",
       "      <th>Net Sales</th>\n",
       "      <th>Commision (in value)</th>\n",
       "      <th>Age</th>\n",
       "      <th>Claim</th>\n",
       "      <th>Dest_fe</th>\n",
       "      <th>Agency_fe</th>\n",
       "      <th>Product Name_fe</th>\n",
       "    </tr>\n",
       "  </thead>\n",
       "  <tbody>\n",
       "    <tr>\n",
       "      <th>0</th>\n",
       "      <td>1</td>\n",
       "      <td>1</td>\n",
       "      <td>365</td>\n",
       "      <td>216.0</td>\n",
       "      <td>54.0</td>\n",
       "      <td>57.0</td>\n",
       "      <td>0</td>\n",
       "      <td>0.209055</td>\n",
       "      <td>0.129783</td>\n",
       "      <td>0.021995</td>\n",
       "    </tr>\n",
       "    <tr>\n",
       "      <th>1</th>\n",
       "      <td>0</td>\n",
       "      <td>1</td>\n",
       "      <td>4</td>\n",
       "      <td>10.0</td>\n",
       "      <td>0.0</td>\n",
       "      <td>33.0</td>\n",
       "      <td>0</td>\n",
       "      <td>0.093372</td>\n",
       "      <td>0.556217</td>\n",
       "      <td>0.292795</td>\n",
       "    </tr>\n",
       "    <tr>\n",
       "      <th>2</th>\n",
       "      <td>1</td>\n",
       "      <td>1</td>\n",
       "      <td>19</td>\n",
       "      <td>22.0</td>\n",
       "      <td>7.7</td>\n",
       "      <td>26.0</td>\n",
       "      <td>0</td>\n",
       "      <td>0.035463</td>\n",
       "      <td>0.100005</td>\n",
       "      <td>0.086492</td>\n",
       "    </tr>\n",
       "    <tr>\n",
       "      <th>3</th>\n",
       "      <td>0</td>\n",
       "      <td>1</td>\n",
       "      <td>20</td>\n",
       "      <td>112.0</td>\n",
       "      <td>0.0</td>\n",
       "      <td>59.0</td>\n",
       "      <td>0</td>\n",
       "      <td>0.039321</td>\n",
       "      <td>0.556217</td>\n",
       "      <td>0.210725</td>\n",
       "    </tr>\n",
       "    <tr>\n",
       "      <th>4</th>\n",
       "      <td>1</td>\n",
       "      <td>1</td>\n",
       "      <td>8</td>\n",
       "      <td>16.0</td>\n",
       "      <td>4.0</td>\n",
       "      <td>28.0</td>\n",
       "      <td>0</td>\n",
       "      <td>0.209055</td>\n",
       "      <td>0.129783</td>\n",
       "      <td>0.064226</td>\n",
       "    </tr>\n",
       "  </tbody>\n",
       "</table>\n",
       "</div>"
      ],
      "text/plain": [
       "   Agency Type  Distribution Channel  Duration  Net Sales  \\\n",
       "0            1                     1       365      216.0   \n",
       "1            0                     1         4       10.0   \n",
       "2            1                     1        19       22.0   \n",
       "3            0                     1        20      112.0   \n",
       "4            1                     1         8       16.0   \n",
       "\n",
       "   Commision (in value)   Age  Claim   Dest_fe  Agency_fe  Product Name_fe  \n",
       "0                  54.0  57.0      0  0.209055   0.129783         0.021995  \n",
       "1                   0.0  33.0      0  0.093372   0.556217         0.292795  \n",
       "2                   7.7  26.0      0  0.035463   0.100005         0.086492  \n",
       "3                   0.0  59.0      0  0.039321   0.556217         0.210725  \n",
       "4                   4.0  28.0      0  0.209055   0.129783         0.064226  "
      ]
     },
     "execution_count": 311,
     "metadata": {},
     "output_type": "execute_result"
    }
   ],
   "source": [
    "cust_claim.head(5)"
   ]
  },
  {
   "cell_type": "markdown",
   "id": "b9692884",
   "metadata": {},
   "source": [
    "#### Train-test Split"
   ]
  },
  {
   "cell_type": "code",
   "execution_count": 312,
   "id": "94f019e8",
   "metadata": {},
   "outputs": [],
   "source": [
    "X_trainval, X_test, y_trainval, y_test = train_test_split(\n",
    "    X,\n",
    "    y, \n",
    "    stratify=y, \n",
    "    train_size = 0.2, \n",
    "    random_state = 2020)"
   ]
  },
  {
   "cell_type": "code",
   "execution_count": null,
   "id": "6c5851a3",
   "metadata": {},
   "outputs": [],
   "source": [
    "X_train, X_val, y_train, y_val = train_test_split(\n",
    "    X_trainval,\n",
    "    y_trainval, \n",
    "    stratify=y_trainval, \n",
    "    train_size = 0.2, \n",
    "    random_state = 2020)"
   ]
  },
  {
   "cell_type": "markdown",
   "id": "51d77342",
   "metadata": {},
   "source": [
    "##### Random Forest Claim"
   ]
  },
  {
   "cell_type": "code",
   "execution_count": 317,
   "id": "80a94b3e",
   "metadata": {},
   "outputs": [
    {
     "name": "stdout",
     "output_type": "stream",
     "text": [
      "0.8718382539548262\n",
      "              precision    recall  f1-score   support\n",
      "\n",
      "           0       0.90      0.94      0.92     26595\n",
      "           1       0.78      0.68      0.73      8868\n",
      "\n",
      "    accuracy                           0.87     35463\n",
      "   macro avg       0.84      0.81      0.82     35463\n",
      "weighted avg       0.87      0.87      0.87     35463\n",
      "\n"
     ]
    }
   ],
   "source": [
    "rf2 = RandomForestClassifier()\n",
    "rf2.fit(X_train, y_train)\n",
    "y_pred_rf2 = rf2.predict(X_test)\n",
    "print(accuracy_score(y_test, y_pred_rf2))\n",
    "print(classification_report(y_test, y_pred_rf2))"
   ]
  },
  {
   "cell_type": "markdown",
   "id": "b216a530",
   "metadata": {},
   "source": [
    "##### Random Forest Claim-Oversample"
   ]
  },
  {
   "cell_type": "code",
   "execution_count": 328,
   "id": "fb8fa123",
   "metadata": {},
   "outputs": [
    {
     "name": "stdout",
     "output_type": "stream",
     "text": [
      "Hasil Cross Validasi [0.76756757 0.76923077 0.74523008 0.76502732 0.74098361]\n",
      "rata-rata skor validasii 0.7576078688646996\n",
      "standar deviasi skor validasi 0.011990925669056266\n"
     ]
    }
   ],
   "source": [
    "ros = RandomOverSampler()\n",
    "\n",
    "pipe_model=Pipeline([\n",
    "    ('balance',ros),\n",
    "    ('cif',rf2)\n",
    "])\n",
    "skf=StratifiedKFold(n_splits=5) \n",
    "rf2_ros_cv=cross_val_score(pipe_model,X_trainval,y_trainval, cv=skf, scoring='f1')\n",
    "print('Hasil Cross Validasi',rf2_ros_cv)\n",
    "print('rata-rata skor validasii',rf2_ros_cv.mean())\n",
    "print('standar deviasi skor validasi',rf2_ros_cv.std())"
   ]
  },
  {
   "cell_type": "code",
   "execution_count": 329,
   "id": "6bec0d1b",
   "metadata": {},
   "outputs": [
    {
     "name": "stdout",
     "output_type": "stream",
     "text": [
      "Confusion Matrix: \n",
      " [[24081  2514]\n",
      " [ 2381  6487]]\n",
      "Classification Report: \n",
      "               precision    recall  f1-score   support\n",
      "\n",
      "           0       0.91      0.91      0.91     26595\n",
      "           1       0.72      0.73      0.73      8868\n",
      "\n",
      "    accuracy                           0.86     35463\n",
      "   macro avg       0.82      0.82      0.82     35463\n",
      "weighted avg       0.86      0.86      0.86     35463\n",
      "\n"
     ]
    }
   ],
   "source": [
    "from sklearn.metrics import confusion_matrix\n",
    "pipe_model.fit(X_train,y_train)\n",
    "y_pred =rf2.predict(X_test)\n",
    "cmb = confusion_matrix(y_test,y_pred)\n",
    "print('Confusion Matrix: \\n',cmb)\n",
    "print('Classification Report: \\n',classification_report(y_test,y_pred))"
   ]
  },
  {
   "cell_type": "code",
   "execution_count": 330,
   "id": "fe72a399",
   "metadata": {},
   "outputs": [
    {
     "data": {
      "text/plain": [
       "<Axes: >"
      ]
     },
     "execution_count": 330,
     "metadata": {},
     "output_type": "execute_result"
    },
    {
     "data": {
      "image/png": "[encoded data removed]",
      "text/plain": [
       "<Figure size 1000x500 with 2 Axes>"
      ]
     },
     "metadata": {},
     "output_type": "display_data"
    }
   ],
   "source": [
    "group_names = ['True Neg','False Pos','False Neg','True Pos']\n",
    "group_counts = [\"{0:0.0f}\".format(value) for value in\n",
    "                cmb.flatten()]\n",
    "group_percentages = [\"{0:.2%}\".format(value) for value in\n",
    "                     cmb.flatten()/np.sum(cmb)]\n",
    "labels = [f\"{v1}\\n{v2}\\n{v3}\" for v1, v2, v3 in\n",
    "          zip(group_names,group_counts,group_percentages)]\n",
    "labels = np.asarray(labels).reshape(2,2)\n",
    "plt.figure(figsize=(10, 5))\n",
    "sns.heatmap(cmb, annot=labels, fmt='', cmap='Blues')"
   ]
  },
  {
   "cell_type": "markdown",
   "id": "65b3cbeb",
   "metadata": {},
   "source": [
    "Hasil test model menunnjukkan bahwa prediksi 0 yang tidak benar ada pad 7.09%"
   ]
  },
  {
   "cell_type": "markdown",
   "id": "1aa10f06",
   "metadata": {},
   "source": [
    "##### Random Forest Claim-Undersample"
   ]
  },
  {
   "cell_type": "code",
   "execution_count": 319,
   "id": "ce43d3b6",
   "metadata": {},
   "outputs": [
    {
     "name": "stdout",
     "output_type": "stream",
     "text": [
      "Hasil Cross Validasi [0.75098039 0.74246842 0.72417252 0.72585366 0.7270974 ]\n",
      "rata-rata skor validasii 0.7341144761038987\n",
      "standar deviasi skor validasi 0.010682420046450642\n"
     ]
    }
   ],
   "source": [
    "# rus = RandomUnderSampler()\n",
    "\n",
    "# pipe_model=Pipeline([\n",
    "#     ('balance',rus),\n",
    "#     ('cif',rf2)\n",
    "# ])\n",
    "# skf=StratifiedKFold(n_splits=5) \n",
    "# rf2_rus_cv=cross_val_score(pipe_model,X_trainval,y_trainval, cv=skf, scoring='f1')\n",
    "# print('Hasil Cross Validasi',rf2_rus_cv)\n",
    "# print('rata-rata skor validasii',rf2_rus_cv.mean())\n",
    "# print('standar deviasi skor validasi',rf2_rus_cv.std())"
   ]
  },
  {
   "cell_type": "markdown",
   "id": "567d36e3",
   "metadata": {},
   "source": [
    "##### Logistic Regression Claim"
   ]
  },
  {
   "cell_type": "code",
   "execution_count": 320,
   "id": "f4c50127",
   "metadata": {},
   "outputs": [
    {
     "name": "stdout",
     "output_type": "stream",
     "text": [
      "0.8453881510306517\n",
      "              precision    recall  f1-score   support\n",
      "\n",
      "           0       0.84      0.99      0.91     26595\n",
      "           1       0.92      0.42      0.57      8868\n",
      "\n",
      "    accuracy                           0.85     35463\n",
      "   macro avg       0.88      0.70      0.74     35463\n",
      "weighted avg       0.86      0.85      0.82     35463\n",
      "\n"
     ]
    },
    {
     "name": "stderr",
     "output_type": "stream",
     "text": [
      "C:\\Users\\rosa\\anaconda3\\Lib\\site-packages\\sklearn\\linear_model\\_logistic.py:458: ConvergenceWarning: lbfgs failed to converge (status=1):\n",
      "STOP: TOTAL NO. of ITERATIONS REACHED LIMIT.\n",
      "\n",
      "Increase the number of iterations (max_iter) or scale the data as shown in:\n",
      "    https://scikit-learn.org/stable/modules/preprocessing.html\n",
      "Please also refer to the documentation for alternative solver options:\n",
      "    https://scikit-learn.org/stable/modules/linear_model.html#logistic-regression\n",
      "  n_iter_i = _check_optimize_result(\n"
     ]
    }
   ],
   "source": [
    "# logr2 = LogisticRegression()\n",
    "# logr2.fit(X_train,y_train)\n",
    "# y_pred = logr2.predict(X_test)\n",
    "# print(accuracy_score(y_test, y_pred))\n",
    "# print(classification_report(y_test, y_pred))"
   ]
  },
  {
   "cell_type": "markdown",
   "id": "fc64bd27",
   "metadata": {},
   "source": [
    "##### Log-Reg Oversample "
   ]
  },
  {
   "cell_type": "code",
   "execution_count": 321,
   "id": "e2bfec82",
   "metadata": {},
   "outputs": [
    {
     "name": "stderr",
     "output_type": "stream",
     "text": [
      "C:\\Users\\rosa\\anaconda3\\Lib\\site-packages\\sklearn\\linear_model\\_logistic.py:458: ConvergenceWarning: lbfgs failed to converge (status=1):\n",
      "STOP: TOTAL NO. of ITERATIONS REACHED LIMIT.\n",
      "\n",
      "Increase the number of iterations (max_iter) or scale the data as shown in:\n",
      "    https://scikit-learn.org/stable/modules/preprocessing.html\n",
      "Please also refer to the documentation for alternative solver options:\n",
      "    https://scikit-learn.org/stable/modules/linear_model.html#logistic-regression\n",
      "  n_iter_i = _check_optimize_result(\n",
      "C:\\Users\\rosa\\anaconda3\\Lib\\site-packages\\sklearn\\linear_model\\_logistic.py:458: ConvergenceWarning: lbfgs failed to converge (status=1):\n",
      "STOP: TOTAL NO. of ITERATIONS REACHED LIMIT.\n",
      "\n",
      "Increase the number of iterations (max_iter) or scale the data as shown in:\n",
      "    https://scikit-learn.org/stable/modules/preprocessing.html\n",
      "Please also refer to the documentation for alternative solver options:\n",
      "    https://scikit-learn.org/stable/modules/linear_model.html#logistic-regression\n",
      "  n_iter_i = _check_optimize_result(\n",
      "C:\\Users\\rosa\\anaconda3\\Lib\\site-packages\\sklearn\\linear_model\\_logistic.py:458: ConvergenceWarning: lbfgs failed to converge (status=1):\n",
      "STOP: TOTAL NO. of ITERATIONS REACHED LIMIT.\n",
      "\n",
      "Increase the number of iterations (max_iter) or scale the data as shown in:\n",
      "    https://scikit-learn.org/stable/modules/preprocessing.html\n",
      "Please also refer to the documentation for alternative solver options:\n",
      "    https://scikit-learn.org/stable/modules/linear_model.html#logistic-regression\n",
      "  n_iter_i = _check_optimize_result(\n",
      "C:\\Users\\rosa\\anaconda3\\Lib\\site-packages\\sklearn\\linear_model\\_logistic.py:458: ConvergenceWarning: lbfgs failed to converge (status=1):\n",
      "STOP: TOTAL NO. of ITERATIONS REACHED LIMIT.\n",
      "\n",
      "Increase the number of iterations (max_iter) or scale the data as shown in:\n",
      "    https://scikit-learn.org/stable/modules/preprocessing.html\n",
      "Please also refer to the documentation for alternative solver options:\n",
      "    https://scikit-learn.org/stable/modules/linear_model.html#logistic-regression\n",
      "  n_iter_i = _check_optimize_result(\n"
     ]
    },
    {
     "name": "stdout",
     "output_type": "stream",
     "text": [
      "Hasil Cross Validasi [0.65202312 0.6855792  0.62290862 0.65287356 0.62676056]\n",
      "rata-rata skor validasii 0.6480290134224145\n",
      "standar deviasi skor validasi 0.022506975700278833\n"
     ]
    },
    {
     "name": "stderr",
     "output_type": "stream",
     "text": [
      "C:\\Users\\rosa\\anaconda3\\Lib\\site-packages\\sklearn\\linear_model\\_logistic.py:458: ConvergenceWarning: lbfgs failed to converge (status=1):\n",
      "STOP: TOTAL NO. of ITERATIONS REACHED LIMIT.\n",
      "\n",
      "Increase the number of iterations (max_iter) or scale the data as shown in:\n",
      "    https://scikit-learn.org/stable/modules/preprocessing.html\n",
      "Please also refer to the documentation for alternative solver options:\n",
      "    https://scikit-learn.org/stable/modules/linear_model.html#logistic-regression\n",
      "  n_iter_i = _check_optimize_result(\n"
     ]
    }
   ],
   "source": [
    "# ros = RandomOverSampler()\n",
    "\n",
    "# pipe_model=Pipeline([\n",
    "#     ('balance',ros),\n",
    "#     ('cif',logr2)\n",
    "# ])\n",
    "# skf=StratifiedKFold(n_splits=5) \n",
    "# logr2_ros_cv=cross_val_score(pipe_model,X_trainval,y_trainval, cv=skf, scoring='f1')\n",
    "# print('Hasil Cross Validasi',logr2_ros_cv)\n",
    "# print('rata-rata skor validasii',logr2_ros_cv.mean())\n",
    "# print('standar deviasi skor validasi',logr2_ros_cv.std())"
   ]
  },
  {
   "cell_type": "markdown",
   "id": "606fb827",
   "metadata": {},
   "source": [
    "##### Logreg-Undersample "
   ]
  },
  {
   "cell_type": "code",
   "execution_count": 323,
   "id": "475be168",
   "metadata": {},
   "outputs": [
    {
     "name": "stderr",
     "output_type": "stream",
     "text": [
      "C:\\Users\\rosa\\anaconda3\\Lib\\site-packages\\sklearn\\linear_model\\_logistic.py:458: ConvergenceWarning: lbfgs failed to converge (status=1):\n",
      "STOP: TOTAL NO. of ITERATIONS REACHED LIMIT.\n",
      "\n",
      "Increase the number of iterations (max_iter) or scale the data as shown in:\n",
      "    https://scikit-learn.org/stable/modules/preprocessing.html\n",
      "Please also refer to the documentation for alternative solver options:\n",
      "    https://scikit-learn.org/stable/modules/linear_model.html#logistic-regression\n",
      "  n_iter_i = _check_optimize_result(\n",
      "C:\\Users\\rosa\\anaconda3\\Lib\\site-packages\\sklearn\\linear_model\\_logistic.py:458: ConvergenceWarning: lbfgs failed to converge (status=1):\n",
      "STOP: TOTAL NO. of ITERATIONS REACHED LIMIT.\n",
      "\n",
      "Increase the number of iterations (max_iter) or scale the data as shown in:\n",
      "    https://scikit-learn.org/stable/modules/preprocessing.html\n",
      "Please also refer to the documentation for alternative solver options:\n",
      "    https://scikit-learn.org/stable/modules/linear_model.html#logistic-regression\n",
      "  n_iter_i = _check_optimize_result(\n",
      "C:\\Users\\rosa\\anaconda3\\Lib\\site-packages\\sklearn\\linear_model\\_logistic.py:458: ConvergenceWarning: lbfgs failed to converge (status=1):\n",
      "STOP: TOTAL NO. of ITERATIONS REACHED LIMIT.\n",
      "\n",
      "Increase the number of iterations (max_iter) or scale the data as shown in:\n",
      "    https://scikit-learn.org/stable/modules/preprocessing.html\n",
      "Please also refer to the documentation for alternative solver options:\n",
      "    https://scikit-learn.org/stable/modules/linear_model.html#logistic-regression\n",
      "  n_iter_i = _check_optimize_result(\n"
     ]
    },
    {
     "name": "stdout",
     "output_type": "stream",
     "text": [
      "Hasil Cross Validasi [0.6353211  0.68427673 0.60372671 0.64293915 0.61157025]\n",
      "rata-rata skor validasii 0.635566787377487\n",
      "standar deviasi skor validasi 0.028343235951758933\n"
     ]
    }
   ],
   "source": [
    "# rus = RandomUnderSampler()\n",
    "\n",
    "# pipe_model=Pipeline([\n",
    "#     ('balance',rus),\n",
    "#     ('cif',logr2)\n",
    "# ])\n",
    "# skf=StratifiedKFold(n_splits=5) \n",
    "# logr2_rus_cv=cross_val_score(pipe_model,X_trainval,y_trainval, cv=skf, scoring='f1')\n",
    "# print('Hasil Cross Validasi',logr2_rus_cv)\n",
    "# print('rata-rata skor validasii',logr2_rus_cv.mean())\n",
    "# print('standar deviasi skor validasi',logr2_rus_cv.std())"
   ]
  },
  {
   "cell_type": "markdown",
   "id": "fe52a0d9",
   "metadata": {},
   "source": [
    "# Hasil Modelling"
   ]
  },
  {
   "cell_type": "markdown",
   "id": "6c014ed8",
   "metadata": {},
   "source": [
    "Berdasarkan hasil testing, dapat dilihat bahwa data Premium dan Data Cust_Claim memiliki kesamaan pada kecocokan modelling yaitu *Random Forest-Oversampling* dikarenakan adanya cross validation yang tinggi, yaitu 76% untuk keduanya, dan juga standard deviasi yang hanya 1 %"
   ]
  },
  {
   "cell_type": "markdown",
   "id": "14d326df",
   "metadata": {},
   "source": [
    "Hasil dari testing juga memiliki data false negative pada Premium customer yaitu 6.5% dan hasil false positive dari claim adalah 7.09%.\n",
    "<br>\n",
    "Dengan demikian chance bahwa model ini memiliki kesalahan dalam memprediksi 2 kondisi tersebut adalah 6.5%*7.09%=46%. "
   ]
  },
  {
   "cell_type": "markdown",
   "id": "fd64df15",
   "metadata": {},
   "source": [
    "Angka 46% terlihat tinggi bila digabungkan, karena adanya jawaban yang hanya 0 atau 1. Tetapi ketika angka ini tetap dibiarkan terpisah, dan dibantu oleh program lain dalam penentuannya.\n",
    "Apabila:\n",
    "<br>\n",
    "**model 1=1, model 2=0--> muncul penawaran khusus**\n",
    "<br>\n",
    "model 1=0, model 2=0--> tidak muncul penawaran khusus\n",
    "<br>\n",
    "model 1=0, model 2=1-> tidak muncul penawaran khusus\n",
    "<br>\n",
    "model 1=0, model 2=0--> tidak muncul penawaran khusus"
   ]
  },
  {
   "cell_type": "markdown",
   "id": "30c90308",
   "metadata": {},
   "source": [
    "Maka keakurasian akan menjadi lebih tinggi, dengan masing-masing model hanya memiliki nilai di bawah 7%"
   ]
  },
  {
   "cell_type": "markdown",
   "id": "bd0f4d1e",
   "metadata": {},
   "source": [
    "Selain itu, data historikal menunjukkan bahwa hanya ada 3 persen dari jumlah customer premium yang mengajukan claim, sehingga hal ini adalah resiko yang rendah"
   ]
  },
  {
   "cell_type": "code",
   "execution_count": 324,
   "id": "0091b3ac",
   "metadata": {},
   "outputs": [
    {
     "data": {
      "text/html": [
       "<div>\n",
       "<style scoped>\n",
       "    .dataframe tbody tr th:only-of-type {\n",
       "        vertical-align: middle;\n",
       "    }\n",
       "\n",
       "    .dataframe tbody tr th {\n",
       "        vertical-align: top;\n",
       "    }\n",
       "\n",
       "    .dataframe thead tr th {\n",
       "        text-align: left;\n",
       "    }\n",
       "\n",
       "    .dataframe thead tr:last-of-type th {\n",
       "        text-align: right;\n",
       "    }\n",
       "</style>\n",
       "<table border=\"1\" class=\"dataframe\">\n",
       "  <thead>\n",
       "    <tr>\n",
       "      <th></th>\n",
       "      <th colspan=\"2\" halign=\"left\">Age</th>\n",
       "    </tr>\n",
       "    <tr>\n",
       "      <th>Net Sales</th>\n",
       "      <th>0</th>\n",
       "      <th>1</th>\n",
       "    </tr>\n",
       "    <tr>\n",
       "      <th>Claim</th>\n",
       "      <th></th>\n",
       "      <th></th>\n",
       "    </tr>\n",
       "  </thead>\n",
       "  <tbody>\n",
       "    <tr>\n",
       "      <th>0</th>\n",
       "      <td>32922</td>\n",
       "      <td>10729</td>\n",
       "    </tr>\n",
       "    <tr>\n",
       "      <th>1</th>\n",
       "      <td>321</td>\n",
       "      <td>356</td>\n",
       "    </tr>\n",
       "  </tbody>\n",
       "</table>\n",
       "</div>"
      ],
      "text/plain": [
       "             Age       \n",
       "Net Sales      0      1\n",
       "Claim                  \n",
       "0          32922  10729\n",
       "1            321    356"
      ]
     },
     "execution_count": 324,
     "metadata": {},
     "output_type": "execute_result"
    }
   ],
   "source": [
    "premium.pivot_table(index=[\"Claim\"],columns=[\"Net Sales\"],values=[\"Age\"],aggfunc='count')"
   ]
  },
  {
   "cell_type": "markdown",
   "id": "cd642ee5",
   "metadata": {},
   "source": [
    "# Cost Benefit Calculation"
   ]
  },
  {
   "cell_type": "markdown",
   "id": "b832ab36",
   "metadata": {},
   "source": [
    "## Efek pemberian Discount"
   ]
  },
  {
   "cell_type": "markdown",
   "id": "2c3ed6cc",
   "metadata": {},
   "source": [
    "*Pemberian Diskon Claim:*\n",
    "<br>\n",
    "Customer Premium adalah mereka yang membayar asuransi dari harga 49.4 dollar hingga 810 dollar*\n",
    "<br>\n",
    "Dengan anggapan marketing memberikan diskon $10 dollar dan adanya peningkatan customer adalah 5% dari historikal\n",
    "<br> \n",
    "Marketing tetap tidak mengeluarkan cost apapun tetapi mengurangi profit yang seharusnya di dapatkan oleh perusahaan"
   ]
  },
  {
   "cell_type": "code",
   "execution_count": 331,
   "id": "549cabc2",
   "metadata": {},
   "outputs": [
    {
     "data": {
      "text/html": [
       "<div>\n",
       "<style scoped>\n",
       "    .dataframe tbody tr th:only-of-type {\n",
       "        vertical-align: middle;\n",
       "    }\n",
       "\n",
       "    .dataframe tbody tr th {\n",
       "        vertical-align: top;\n",
       "    }\n",
       "\n",
       "    .dataframe thead th {\n",
       "        text-align: right;\n",
       "    }\n",
       "</style>\n",
       "<table border=\"1\" class=\"dataframe\">\n",
       "  <thead>\n",
       "    <tr style=\"text-align: right;\">\n",
       "      <th>Net Sales</th>\n",
       "      <th>0</th>\n",
       "      <th>1</th>\n",
       "    </tr>\n",
       "  </thead>\n",
       "  <tbody>\n",
       "    <tr>\n",
       "      <th>Age</th>\n",
       "      <td>33243</td>\n",
       "      <td>11085</td>\n",
       "    </tr>\n",
       "  </tbody>\n",
       "</table>\n",
       "</div>"
      ],
      "text/plain": [
       "Net Sales      0      1\n",
       "Age        33243  11085"
      ]
     },
     "execution_count": 331,
     "metadata": {},
     "output_type": "execute_result"
    }
   ],
   "source": [
    "premium.pivot_table(columns=[\"Net Sales\"],values=[\"Age\"],aggfunc='count')"
   ]
  },
  {
   "cell_type": "markdown",
   "id": "a58c29c0",
   "metadata": {},
   "source": [
    "Original Revenue from customer premium (lowest) = 11,085*49.50= 547,599\n",
    "Original Revenue from customer premium (highest)= 11,085*810=8,978,850\n",
    "\n",
    "20%+premium customer from marketing program=2217\n",
    "Revenue from Promo (lowest)=547,599+(2217*39.50)=635,170.5\n",
    "revenue from promo (highest)=8,979,850+(554*800)=10,752,450\n",
    "\n",
    "Dengan penerapan marketing ini kepada market, kemungkinan marketing dapat memberikan penambahan revenue sebesar 15%-19% kepada perusahaan \n"
   ]
  },
  {
   "cell_type": "markdown",
   "id": "e1358da3",
   "metadata": {},
   "source": [
    "Namun marketing memiliki resiko pengurangan budget bila machine learning memberikan jawaban yang salah yaitu\n",
    "<br>\n",
    "budget*6.5% (false negative)"
   ]
  },
  {
   "cell_type": "markdown",
   "id": "b08b45c1",
   "metadata": {},
   "source": [
    "# Efek penentuan Claim yang salah"
   ]
  },
  {
   "cell_type": "markdown",
   "id": "8fe83758",
   "metadata": {},
   "source": [
    "Apabila customer premium melakukan klaim, company harus mengeluarkan cost 2 hingga 3 kali dari harga asuransi itu sendiri"
   ]
  },
  {
   "cell_type": "markdown",
   "id": "21cae6ea",
   "metadata": {},
   "source": [
    "Cost yang di resiko kan adalah Cost Claim*7.09% (false positive)"
   ]
  },
  {
   "cell_type": "markdown",
   "id": "50c2f6e7",
   "metadata": {},
   "source": [
    "# Save Model"
   ]
  },
  {
   "cell_type": "code",
   "execution_count": null,
   "id": "8efaf501",
   "metadata": {},
   "outputs": [],
   "source": [
    "import pickle"
   ]
  },
  {
   "cell_type": "code",
   "execution_count": null,
   "id": "3d695d6b",
   "metadata": {},
   "outputs": [],
   "source": [
    "#save model\n",
    "filename='logr1_premium'\n",
    "pickle.dump(logr1,open(filename,'wb'))\n"
   ]
  },
  {
   "cell_type": "code",
   "execution_count": null,
   "id": "a156fd3a",
   "metadata": {},
   "outputs": [],
   "source": [
    "#load model\n",
    "filename='logr1_premium'\n",
    "loaded_model=pickle.load(open(filename,'rb'))\n"
   ]
  },
  {
   "cell_type": "code",
   "execution_count": null,
   "id": "25048b4b",
   "metadata": {},
   "outputs": [],
   "source": [
    "loaded_model"
   ]
  },
  {
   "cell_type": "code",
   "execution_count": null,
   "id": "f83d6f68",
   "metadata": {},
   "outputs": [],
   "source": [
    "filename2='rf3cust_claim'\n",
    "pickle.dump(rf3,open(filename2,'wb'))"
   ]
  },
  {
   "cell_type": "code",
   "execution_count": null,
   "id": "c6c27dd3",
   "metadata": {},
   "outputs": [],
   "source": [
    " \n",
    "filename2='rf3cust_claim'\n",
    "loaded_model2=pickle.load(open(filename2,'rb'))"
   ]
  },
  {
   "cell_type": "code",
   "execution_count": null,
   "id": "61c0cea5",
   "metadata": {},
   "outputs": [],
   "source": [
    " loaded_model2"
   ]
  },
  {
   "cell_type": "markdown",
   "id": "bc65ca2f",
   "metadata": {},
   "source": [
    "# Summary"
   ]
  },
  {
   "cell_type": "markdown",
   "id": "1872fe6e",
   "metadata": {},
   "source": [
    "Data memiliki limitasi karena tidak dapat memprediksi target market secara langsung dalam 1 model:\n",
    "<br> \n",
    "1. model 1 harus menunjukan bahwa customer termasuk _premium_--> model memprediksi customer memiliki angka *1*\n",
    "<br>\n",
    "2. model 2 harus menunjukan bahwa customer memiliki kemungkinan rendah untuk klaim-->--> model memprediksi customer memiliki angka *0*"
   ]
  },
  {
   "cell_type": "markdown",
   "id": "3077622b",
   "metadata": {},
   "source": [
    "Apabila:\n",
    "<br>\n",
    "**model 1=1, model 2=0--> muncul penawaran khusus**\n",
    "<br>\n",
    "model 1=0, model 2=0--> tidak muncul penawaran khusus\n",
    "<br>\n",
    "model 1=0, model 2=1-> tidak muncul penawaran khusus\n",
    "<br>\n",
    "model 1=0, model 2=0--> tidak muncul penawaran khusus"
   ]
  },
  {
   "cell_type": "markdown",
   "id": "84834490",
   "metadata": {},
   "source": [
    "Berdasarkan testing kita juga dapat melihat bahwa model yang paling tepat diterapkan adalah\n",
    "<br>\n",
    "model 1= Random Forest menggunakan oversampling sebagai crossdvalidation\n",
    "<br>\n",
    "model 2= Random Forest menggunakan oversampling sebagai crossdvalidation\n",
    "<br>\n"
   ]
  },
  {
   "cell_type": "code",
   "execution_count": null,
   "id": "e961a24c",
   "metadata": {},
   "outputs": [],
   "source": []
  }
 ],
 "metadata": {
  "kernelspec": {
   "display_name": "Python 3 (ipykernel)",
   "language": "python",
   "name": "python3"
  },
  "language_info": {
   "codemirror_mode": {
    "name": "ipython",
    "version": 3
   },
   "file_extension": ".py",
   "mimetype": "text/x-python",
   "name": "python",
   "nbconvert_exporter": "python",
   "pygments_lexer": "ipython3",
   "version": "3.11.3"
  }
 },
 "nbformat": 4,
 "nbformat_minor": 5
}
