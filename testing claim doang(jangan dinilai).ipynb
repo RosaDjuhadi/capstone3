{
 "cells": [
  {
   "cell_type": "code",
   "execution_count": 17,
   "id": "4a773b22",
   "metadata": {},
   "outputs": [
    {
     "name": "stdout",
     "output_type": "stream",
     "text": [
      "Collecting imblearnNote: you may need to restart the kernel to use updated packages.\n",
      "\n",
      "  Downloading imblearn-0.0-py2.py3-none-any.whl (1.9 kB)\n",
      "Requirement already satisfied: imbalanced-learn in c:\\users\\rosa\\anaconda3\\lib\\site-packages (from imblearn) (0.10.1)\n",
      "Requirement already satisfied: numpy>=1.17.3 in c:\\users\\rosa\\anaconda3\\lib\\site-packages (from imbalanced-learn->imblearn) (1.24.3)\n",
      "Requirement already satisfied: scipy>=1.3.2 in c:\\users\\rosa\\anaconda3\\lib\\site-packages (from imbalanced-learn->imblearn) (1.10.1)\n",
      "Requirement already satisfied: scikit-learn>=1.0.2 in c:\\users\\rosa\\anaconda3\\lib\\site-packages (from imbalanced-learn->imblearn) (1.2.2)\n",
      "Requirement already satisfied: joblib>=1.1.1 in c:\\users\\rosa\\anaconda3\\lib\\site-packages (from imbalanced-learn->imblearn) (1.2.0)\n",
      "Requirement already satisfied: threadpoolctl>=2.0.0 in c:\\users\\rosa\\anaconda3\\lib\\site-packages (from imbalanced-learn->imblearn) (2.2.0)\n",
      "Installing collected packages: imblearn\n",
      "Successfully installed imblearn-0.0\n"
     ]
    }
   ],
   "source": [
    "!pip install imblearn"
   ]
  },
  {
   "cell_type": "code",
   "execution_count": 146,
   "id": "c35cfc25",
   "metadata": {},
   "outputs": [],
   "source": [
    "#import libraries\n",
    "import pandas as pd\n",
    "import numpy as np\n",
    "\n",
    "#importing liabraries for graphical representation\n",
    "import matplotlib.pyplot as plt\n",
    "import seaborn as sns\n",
    "from pandas.plotting import scatter_matrix\n",
    "import matplotlib.patches as mpatches\n",
    "from matplotlib import rcParams\n",
    "\n",
    "#Packages for feature engineering\n",
    "from sklearn.model_selection import train_test_split, StratifiedKFold,cross_val_score\n",
    "from sklearn.linear_model import LogisticRegression, SGDClassifier\n",
    "from sklearn.tree import DecisionTreeClassifier\n",
    "from sklearn.ensemble import RandomForestClassifier, AdaBoostClassifier\n",
    "from statsmodels.tools.eval_measures import rmse\n",
    "from scipy import stats\n",
    "from sklearn.metrics import classification_report, accuracy_score, confusion_matrix\n",
    "import statsmodels.api as sm\n",
    "from sklearn.neighbors import KNeighborsClassifier\n",
    "from sklearn.discriminant_analysis import LinearDiscriminantAnalysis\n",
    "from sklearn.naive_bayes import GaussianNB\n",
    "from sklearn.feature_selection import RFE\n",
    "\n",
    "from imblearn.over_sampling import RandomOverSampler,SMOTE\n",
    "from imblearn.under_sampling import RandomUnderSampler,NearMiss\n",
    "\n",
    "from sklearn.metrics import classification_report,f1_score\n",
    "\n",
    "from imblearn.pipeline import Pipeline\n",
    "\n",
    "import warnings\n",
    "warnings.filterwarnings('ignore')\n",
    " \n"
   ]
  },
  {
   "cell_type": "code",
   "execution_count": 147,
   "id": "12f2ed14",
   "metadata": {},
   "outputs": [],
   "source": [
    "df=pd.read_csv('data_travel_insurance.csv')"
   ]
  },
  {
   "cell_type": "code",
   "execution_count": 148,
   "id": "3e512d9f",
   "metadata": {},
   "outputs": [
    {
     "data": {
      "text/plain": [
       "Claim\n",
       "No     0.9847\n",
       "Yes    0.0153\n",
       "dtype: float64"
      ]
     },
     "execution_count": 148,
     "metadata": {},
     "output_type": "execute_result"
    }
   ],
   "source": [
    "# Checking the distribution of the claims\n",
    "\n",
    "(df.groupby('Claim').size()/df.shape[0]).round(4)"
   ]
  },
  {
   "cell_type": "code",
   "execution_count": 149,
   "id": "06b65e4a",
   "metadata": {},
   "outputs": [],
   "source": [
    "df['Net Sales'] = np.abs(df['Net Sales'])\n",
    "premium=df.copy()\n",
    "cust_claim=df.copy()"
   ]
  },
  {
   "cell_type": "code",
   "execution_count": 150,
   "id": "8aa9e691",
   "metadata": {},
   "outputs": [],
   "source": [
    "# Identifikasi kemungkinan customer claim\n",
    "\n",
    "def data_pre_processing(cust_claim):\n",
    "\n",
    "    # Menghapus kolom Gender\n",
    "    cust_claim.drop('Gender',axis =1, inplace=True)\n",
    "    \n",
    "    # Durasi yang memiliki nilai kurang dari nol akan diisi oleh angka median\n",
    "    cust_claim['Duration'][cust_claim['Duration'] < 0] = cust_claim['Duration'].median()\n",
    "    \n",
    "    # Durasi untuk asuransi travelling sepantasnya tidak mencapai angka 4000 lebih, oleh karena itu kita akan mengambil \n",
    "    # maksimal 2 tahun dan menggangap tahun kedua adalah tahun kabisat\n",
    "    cust_claim ['Duration'][cust_claim['Duration'] > 731] = 731\n",
    "    \n",
    "    #Mengubah angka 118 menggunakan angka rata-rata umur\n",
    "    cust_claim['Age'][cust_claim['Age'] >100] = cust_claim['Age'].mean()\n",
    "    \n",
    "    cust_claim['Agency Type']=np.where(cust_claim['Agency Type']=='Airlines',1,0)\n",
    "    cust_claim['Distribution Channel']=np.where(cust_claim['Distribution Channel']=='Online',1,0)\n",
    "    cust_claim['Claim']=np.where(cust_claim['Claim']=='Yes',1,0)"
   ]
  },
  {
   "cell_type": "code",
   "execution_count": 151,
   "id": "f2f2275f",
   "metadata": {},
   "outputs": [],
   "source": [
    "data_pre_processing(cust_claim)"
   ]
  },
  {
   "cell_type": "code",
   "execution_count": 152,
   "id": "4c16300e",
   "metadata": {},
   "outputs": [],
   "source": [
    "def feature_processing(encoding):\n",
    "    # Converting all categorical columns into numeric using frequency encoding, label encoding and one-hot encoding.\n",
    "    fe = encoding.groupby('Destination').size()/len(encoding)\n",
    "    encoding.loc[:,'Dest_fe'] = encoding['Destination'].map(fe)\n",
    "    fe_1 = encoding.groupby('Agency').size()/len(encoding)\n",
    "    encoding.loc[:,'Agency_fe'] = encoding['Agency'].map(fe_1)\n",
    "    fe_2 = encoding.groupby('Product Name').size()/len(encoding)    \n",
    "    encoding.loc[:,'Product Name_fe'] = encoding['Product Name'].map(fe_2)\n",
    "    encoding.drop(columns='Agency',axis=1,inplace=True)\n",
    "    encoding.drop(columns='Destination',axis=1,inplace=True)\n",
    "    encoding.drop(columns='Product Name',axis=1,inplace=True)"
   ]
  },
  {
   "cell_type": "code",
   "execution_count": 153,
   "id": "d8f772cc",
   "metadata": {},
   "outputs": [],
   "source": [
    "feature_processing(cust_claim)"
   ]
  },
  {
   "cell_type": "code",
   "execution_count": 158,
   "id": "86b1fe9b",
   "metadata": {},
   "outputs": [],
   "source": [
    "X = cust_claim[['Agency Type','Duration','Net Sales','Commision (in value)']]\n",
    "y = cust_claim['Claim']"
   ]
  },
  {
   "cell_type": "code",
   "execution_count": 159,
   "id": "29451462",
   "metadata": {},
   "outputs": [
    {
     "data": {
      "text/plain": [
       "(44328, 4)"
      ]
     },
     "execution_count": 159,
     "metadata": {},
     "output_type": "execute_result"
    }
   ],
   "source": [
    "X.shape"
   ]
  },
  {
   "cell_type": "code",
   "execution_count": 160,
   "id": "522cfb34",
   "metadata": {},
   "outputs": [],
   "source": [
    "X_trainval, X_test, y_trainval, y_test = train_test_split(\n",
    "    X,\n",
    "    y, \n",
    "    stratify=y,  \n",
    "    train_size = 0.2,\n",
    "    random_state = 2020\n",
    ")"
   ]
  },
  {
   "cell_type": "code",
   "execution_count": 161,
   "id": "3eb47b3d",
   "metadata": {},
   "outputs": [],
   "source": [
    "X_train, X_val, y_train, y_val = train_test_split(\n",
    "    X_trainval,\n",
    "    y_trainval, \n",
    "    stratify=y_trainval,  \n",
    "    test_size = 0.2,\n",
    "    random_state = 2020\n",
    ")"
   ]
  },
  {
   "cell_type": "code",
   "execution_count": 162,
   "id": "92ca5446",
   "metadata": {},
   "outputs": [
    {
     "name": "stdout",
     "output_type": "stream",
     "text": [
      "0.9797817443532696\n",
      "              precision    recall  f1-score   support\n",
      "\n",
      "           0       0.98      0.99      0.99     34921\n",
      "           1       0.04      0.01      0.02       542\n",
      "\n",
      "    accuracy                           0.98     35463\n",
      "   macro avg       0.51      0.50      0.51     35463\n",
      "weighted avg       0.97      0.98      0.97     35463\n",
      "\n"
     ]
    }
   ],
   "source": [
    "rf = RandomForestClassifier()\n",
    "rf.fit(X_train, y_train)\n",
    "y_pred_rf = rf.predict(X_test)\n",
    "print(accuracy_score(y_test, y_pred_rf))\n",
    "print(classification_report(y_test, y_pred_rf))"
   ]
  },
  {
   "cell_type": "code",
   "execution_count": 163,
   "id": "b47bf330",
   "metadata": {},
   "outputs": [
    {
     "name": "stdout",
     "output_type": "stream",
     "text": [
      "0.9846600682401376\n",
      "              precision    recall  f1-score   support\n",
      "\n",
      "           0       0.98      1.00      0.99     34921\n",
      "           1       0.00      0.00      0.00       542\n",
      "\n",
      "    accuracy                           0.98     35463\n",
      "   macro avg       0.49      0.50      0.50     35463\n",
      "weighted avg       0.97      0.98      0.98     35463\n",
      "\n"
     ]
    }
   ],
   "source": [
    "logr = LogisticRegression()\n",
    "logr.fit(X_train,y_train)\n",
    "y_pred = logr.predict(X_test)\n",
    "print(accuracy_score(y_test, y_pred))\n",
    "print(classification_report(y_test, y_pred))"
   ]
  },
  {
   "cell_type": "code",
   "execution_count": 164,
   "id": "f869ffdb",
   "metadata": {},
   "outputs": [
    {
     "name": "stdout",
     "output_type": "stream",
     "text": [
      "              precision    recall  f1-score   support\n",
      "\n",
      "           0       0.98      1.00      0.99      1746\n",
      "           1       0.00      0.00      0.00        27\n",
      "\n",
      "    accuracy                           0.98      1773\n",
      "   macro avg       0.49      0.50      0.50      1773\n",
      "weighted avg       0.97      0.98      0.98      1773\n",
      "\n"
     ]
    }
   ],
   "source": [
    "y_pred=logr.predict(X_val)\n",
    "print(classification_report(y_val,y_pred))"
   ]
  },
  {
   "cell_type": "markdown",
   "id": "d4f8419d",
   "metadata": {},
   "source": [
    "# Penalized Logistic Regression(2)"
   ]
  },
  {
   "cell_type": "code",
   "execution_count": 167,
   "id": "4be2af0f",
   "metadata": {},
   "outputs": [],
   "source": [
    "model=LogisticRegression(class_weight='balanced')\n",
    "skf=StratifiedKFold(n_splits=5)\n",
    "model_cv=cross_val_score(rf, X_trainval, y_trainval,cv=skf, scoring='f1')"
   ]
  },
  {
   "cell_type": "code",
   "execution_count": 168,
   "id": "cb2e415b",
   "metadata": {},
   "outputs": [
    {
     "name": "stdout",
     "output_type": "stream",
     "text": [
      "[0. 0. 0. 0. 0.]\n",
      "0.0\n"
     ]
    }
   ],
   "source": [
    "print(model_cv)\n",
    "print(model_cv.mean())"
   ]
  },
  {
   "cell_type": "markdown",
   "id": "2c402638",
   "metadata": {},
   "source": [
    "# Logistic Reggression with SMOTE"
   ]
  },
  {
   "cell_type": "code",
   "execution_count": 169,
   "id": "13d72116",
   "metadata": {},
   "outputs": [],
   "source": [
    "smote=SMOTE()\n",
    "model=LogisticRegression()\n",
    "\n",
    "pipe_model=Pipeline([\n",
    "    ('balance',smote),\n",
    "    ('cif',model)\n",
    "])\n",
    "skf=StratifiedKFold(n_splits=5)"
   ]
  },
  {
   "cell_type": "code",
   "execution_count": 172,
   "id": "91e27c2a",
   "metadata": {},
   "outputs": [],
   "source": [
    "model_smote_cv=cross_val_score(pipe_model,X_trainval,y_trainval, cv=skf, scoring='f1')"
   ]
  },
  {
   "cell_type": "code",
   "execution_count": 173,
   "id": "ff9104e9",
   "metadata": {},
   "outputs": [
    {
     "name": "stdout",
     "output_type": "stream",
     "text": [
      "[0.05970149 0.06185567 0.06219313 0.06101695 0.05638474]\n",
      "0.0602303961535538\n"
     ]
    }
   ],
   "source": [
    "print(model_smote_cv)\n",
    "print(model_smote_cv.mean())"
   ]
  },
  {
   "cell_type": "markdown",
   "id": "72281fbb",
   "metadata": {},
   "source": [
    "# Final Model Performance"
   ]
  },
  {
   "cell_type": "code",
   "execution_count": 174,
   "id": "d8106e23",
   "metadata": {},
   "outputs": [
    {
     "data": {
      "text/html": [
       "<style>#sk-container-id-3 {color: black;background-color: white;}#sk-container-id-3 pre{padding: 0;}#sk-container-id-3 div.sk-toggleable {background-color: white;}#sk-container-id-3 label.sk-toggleable__label {cursor: pointer;display: block;width: 100%;margin-bottom: 0;padding: 0.3em;box-sizing: border-box;text-align: center;}#sk-container-id-3 label.sk-toggleable__label-arrow:before {content: \"▸\";float: left;margin-right: 0.25em;color: #696969;}#sk-container-id-3 label.sk-toggleable__label-arrow:hover:before {color: black;}#sk-container-id-3 div.sk-estimator:hover label.sk-toggleable__label-arrow:before {color: black;}#sk-container-id-3 div.sk-toggleable__content {max-height: 0;max-width: 0;overflow: hidden;text-align: left;background-color: #f0f8ff;}#sk-container-id-3 div.sk-toggleable__content pre {margin: 0.2em;color: black;border-radius: 0.25em;background-color: #f0f8ff;}#sk-container-id-3 input.sk-toggleable__control:checked~div.sk-toggleable__content {max-height: 200px;max-width: 100%;overflow: auto;}#sk-container-id-3 input.sk-toggleable__control:checked~label.sk-toggleable__label-arrow:before {content: \"▾\";}#sk-container-id-3 div.sk-estimator input.sk-toggleable__control:checked~label.sk-toggleable__label {background-color: #d4ebff;}#sk-container-id-3 div.sk-label input.sk-toggleable__control:checked~label.sk-toggleable__label {background-color: #d4ebff;}#sk-container-id-3 input.sk-hidden--visually {border: 0;clip: rect(1px 1px 1px 1px);clip: rect(1px, 1px, 1px, 1px);height: 1px;margin: -1px;overflow: hidden;padding: 0;position: absolute;width: 1px;}#sk-container-id-3 div.sk-estimator {font-family: monospace;background-color: #f0f8ff;border: 1px dotted black;border-radius: 0.25em;box-sizing: border-box;margin-bottom: 0.5em;}#sk-container-id-3 div.sk-estimator:hover {background-color: #d4ebff;}#sk-container-id-3 div.sk-parallel-item::after {content: \"\";width: 100%;border-bottom: 1px solid gray;flex-grow: 1;}#sk-container-id-3 div.sk-label:hover label.sk-toggleable__label {background-color: #d4ebff;}#sk-container-id-3 div.sk-serial::before {content: \"\";position: absolute;border-left: 1px solid gray;box-sizing: border-box;top: 0;bottom: 0;left: 50%;z-index: 0;}#sk-container-id-3 div.sk-serial {display: flex;flex-direction: column;align-items: center;background-color: white;padding-right: 0.2em;padding-left: 0.2em;position: relative;}#sk-container-id-3 div.sk-item {position: relative;z-index: 1;}#sk-container-id-3 div.sk-parallel {display: flex;align-items: stretch;justify-content: center;background-color: white;position: relative;}#sk-container-id-3 div.sk-item::before, #sk-container-id-3 div.sk-parallel-item::before {content: \"\";position: absolute;border-left: 1px solid gray;box-sizing: border-box;top: 0;bottom: 0;left: 50%;z-index: -1;}#sk-container-id-3 div.sk-parallel-item {display: flex;flex-direction: column;z-index: 1;position: relative;background-color: white;}#sk-container-id-3 div.sk-parallel-item:first-child::after {align-self: flex-end;width: 50%;}#sk-container-id-3 div.sk-parallel-item:last-child::after {align-self: flex-start;width: 50%;}#sk-container-id-3 div.sk-parallel-item:only-child::after {width: 0;}#sk-container-id-3 div.sk-dashed-wrapped {border: 1px dashed gray;margin: 0 0.4em 0.5em 0.4em;box-sizing: border-box;padding-bottom: 0.4em;background-color: white;}#sk-container-id-3 div.sk-label label {font-family: monospace;font-weight: bold;display: inline-block;line-height: 1.2em;}#sk-container-id-3 div.sk-label-container {text-align: center;}#sk-container-id-3 div.sk-container {/* jupyter's `normalize.less` sets `[hidden] { display: none; }` but bootstrap.min.css set `[hidden] { display: none !important; }` so we also need the `!important` here to be able to override the default hidden behavior on the sphinx rendered scikit-learn.org. See: https://github.com/scikit-learn/scikit-learn/issues/21755 */display: inline-block !important;position: relative;}#sk-container-id-3 div.sk-text-repr-fallback {display: none;}</style><div id=\"sk-container-id-3\" class=\"sk-top-container\"><div class=\"sk-text-repr-fallback\"><pre>LogisticRegression(class_weight=&#x27;balanced&#x27;)</pre><b>In a Jupyter environment, please rerun this cell to show the HTML representation or trust the notebook. <br />On GitHub, the HTML representation is unable to render, please try loading this page with nbviewer.org.</b></div><div class=\"sk-container\" hidden><div class=\"sk-item\"><div class=\"sk-estimator sk-toggleable\"><input class=\"sk-toggleable__control sk-hidden--visually\" id=\"sk-estimator-id-3\" type=\"checkbox\" checked><label for=\"sk-estimator-id-3\" class=\"sk-toggleable__label sk-toggleable__label-arrow\">LogisticRegression</label><div class=\"sk-toggleable__content\"><pre>LogisticRegression(class_weight=&#x27;balanced&#x27;)</pre></div></div></div></div></div>"
      ],
      "text/plain": [
       "LogisticRegression(class_weight='balanced')"
      ]
     },
     "execution_count": 174,
     "metadata": {},
     "output_type": "execute_result"
    }
   ],
   "source": [
    "model=LogisticRegression(class_weight='balanced')\n",
    "model.fit(X_trainval,y_trainval)"
   ]
  },
  {
   "cell_type": "code",
   "execution_count": 175,
   "id": "1f77ca19",
   "metadata": {},
   "outputs": [
    {
     "name": "stdout",
     "output_type": "stream",
     "text": [
      "              precision    recall  f1-score   support\n",
      "\n",
      "           0       0.99      0.70      0.82     34921\n",
      "           1       0.04      0.72      0.07       542\n",
      "\n",
      "    accuracy                           0.70     35463\n",
      "   macro avg       0.51      0.71      0.45     35463\n",
      "weighted avg       0.98      0.70      0.81     35463\n",
      "\n"
     ]
    }
   ],
   "source": [
    "y_pred=model.predict(X_test)\n",
    "print(classification_report(y_test,y_pred))"
   ]
  },
  {
   "cell_type": "markdown",
   "id": "c33d4d79",
   "metadata": {},
   "source": [
    "# UnderSample"
   ]
  },
  {
   "cell_type": "code",
   "execution_count": 111,
   "id": "e6064d8e",
   "metadata": {},
   "outputs": [],
   "source": [
    "rus=RandomUnderSampler()\n",
    "X_under,y_under=rus.fit_resample(X_train,y_train)\n",
    "    "
   ]
  },
  {
   "cell_type": "code",
   "execution_count": 112,
   "id": "dd0b9753",
   "metadata": {},
   "outputs": [
    {
     "data": {
      "text/plain": [
       "216"
      ]
     },
     "execution_count": 112,
     "metadata": {},
     "output_type": "execute_result"
    }
   ],
   "source": [
    "len(y_under)"
   ]
  },
  {
   "cell_type": "code",
   "execution_count": 113,
   "id": "7c41d4d6",
   "metadata": {},
   "outputs": [
    {
     "data": {
      "text/plain": [
       "7092"
      ]
     },
     "execution_count": 113,
     "metadata": {},
     "output_type": "execute_result"
    }
   ],
   "source": [
    "len(y_train)"
   ]
  },
  {
   "cell_type": "code",
   "execution_count": 114,
   "id": "5792dda1",
   "metadata": {},
   "outputs": [
    {
     "data": {
      "text/html": [
       "<style>#sk-container-id-1 {color: black;background-color: white;}#sk-container-id-1 pre{padding: 0;}#sk-container-id-1 div.sk-toggleable {background-color: white;}#sk-container-id-1 label.sk-toggleable__label {cursor: pointer;display: block;width: 100%;margin-bottom: 0;padding: 0.3em;box-sizing: border-box;text-align: center;}#sk-container-id-1 label.sk-toggleable__label-arrow:before {content: \"▸\";float: left;margin-right: 0.25em;color: #696969;}#sk-container-id-1 label.sk-toggleable__label-arrow:hover:before {color: black;}#sk-container-id-1 div.sk-estimator:hover label.sk-toggleable__label-arrow:before {color: black;}#sk-container-id-1 div.sk-toggleable__content {max-height: 0;max-width: 0;overflow: hidden;text-align: left;background-color: #f0f8ff;}#sk-container-id-1 div.sk-toggleable__content pre {margin: 0.2em;color: black;border-radius: 0.25em;background-color: #f0f8ff;}#sk-container-id-1 input.sk-toggleable__control:checked~div.sk-toggleable__content {max-height: 200px;max-width: 100%;overflow: auto;}#sk-container-id-1 input.sk-toggleable__control:checked~label.sk-toggleable__label-arrow:before {content: \"▾\";}#sk-container-id-1 div.sk-estimator input.sk-toggleable__control:checked~label.sk-toggleable__label {background-color: #d4ebff;}#sk-container-id-1 div.sk-label input.sk-toggleable__control:checked~label.sk-toggleable__label {background-color: #d4ebff;}#sk-container-id-1 input.sk-hidden--visually {border: 0;clip: rect(1px 1px 1px 1px);clip: rect(1px, 1px, 1px, 1px);height: 1px;margin: -1px;overflow: hidden;padding: 0;position: absolute;width: 1px;}#sk-container-id-1 div.sk-estimator {font-family: monospace;background-color: #f0f8ff;border: 1px dotted black;border-radius: 0.25em;box-sizing: border-box;margin-bottom: 0.5em;}#sk-container-id-1 div.sk-estimator:hover {background-color: #d4ebff;}#sk-container-id-1 div.sk-parallel-item::after {content: \"\";width: 100%;border-bottom: 1px solid gray;flex-grow: 1;}#sk-container-id-1 div.sk-label:hover label.sk-toggleable__label {background-color: #d4ebff;}#sk-container-id-1 div.sk-serial::before {content: \"\";position: absolute;border-left: 1px solid gray;box-sizing: border-box;top: 0;bottom: 0;left: 50%;z-index: 0;}#sk-container-id-1 div.sk-serial {display: flex;flex-direction: column;align-items: center;background-color: white;padding-right: 0.2em;padding-left: 0.2em;position: relative;}#sk-container-id-1 div.sk-item {position: relative;z-index: 1;}#sk-container-id-1 div.sk-parallel {display: flex;align-items: stretch;justify-content: center;background-color: white;position: relative;}#sk-container-id-1 div.sk-item::before, #sk-container-id-1 div.sk-parallel-item::before {content: \"\";position: absolute;border-left: 1px solid gray;box-sizing: border-box;top: 0;bottom: 0;left: 50%;z-index: -1;}#sk-container-id-1 div.sk-parallel-item {display: flex;flex-direction: column;z-index: 1;position: relative;background-color: white;}#sk-container-id-1 div.sk-parallel-item:first-child::after {align-self: flex-end;width: 50%;}#sk-container-id-1 div.sk-parallel-item:last-child::after {align-self: flex-start;width: 50%;}#sk-container-id-1 div.sk-parallel-item:only-child::after {width: 0;}#sk-container-id-1 div.sk-dashed-wrapped {border: 1px dashed gray;margin: 0 0.4em 0.5em 0.4em;box-sizing: border-box;padding-bottom: 0.4em;background-color: white;}#sk-container-id-1 div.sk-label label {font-family: monospace;font-weight: bold;display: inline-block;line-height: 1.2em;}#sk-container-id-1 div.sk-label-container {text-align: center;}#sk-container-id-1 div.sk-container {/* jupyter's `normalize.less` sets `[hidden] { display: none; }` but bootstrap.min.css set `[hidden] { display: none !important; }` so we also need the `!important` here to be able to override the default hidden behavior on the sphinx rendered scikit-learn.org. See: https://github.com/scikit-learn/scikit-learn/issues/21755 */display: inline-block !important;position: relative;}#sk-container-id-1 div.sk-text-repr-fallback {display: none;}</style><div id=\"sk-container-id-1\" class=\"sk-top-container\"><div class=\"sk-text-repr-fallback\"><pre>LogisticRegression()</pre><b>In a Jupyter environment, please rerun this cell to show the HTML representation or trust the notebook. <br />On GitHub, the HTML representation is unable to render, please try loading this page with nbviewer.org.</b></div><div class=\"sk-container\" hidden><div class=\"sk-item\"><div class=\"sk-estimator sk-toggleable\"><input class=\"sk-toggleable__control sk-hidden--visually\" id=\"sk-estimator-id-1\" type=\"checkbox\" checked><label for=\"sk-estimator-id-1\" class=\"sk-toggleable__label sk-toggleable__label-arrow\">LogisticRegression</label><div class=\"sk-toggleable__content\"><pre>LogisticRegression()</pre></div></div></div></div></div>"
      ],
      "text/plain": [
       "LogisticRegression()"
      ]
     },
     "execution_count": 114,
     "metadata": {},
     "output_type": "execute_result"
    }
   ],
   "source": [
    "model_rus=LogisticRegression()\n",
    "model_rus.fit(X_under,y_under)"
   ]
  },
  {
   "cell_type": "code",
   "execution_count": 116,
   "id": "5f95819d",
   "metadata": {},
   "outputs": [
    {
     "name": "stdout",
     "output_type": "stream",
     "text": [
      "              precision    recall  f1-score   support\n",
      "\n",
      "           0       1.00      0.69      0.82      1746\n",
      "           1       0.04      0.78      0.07        27\n",
      "\n",
      "    accuracy                           0.69      1773\n",
      "   macro avg       0.52      0.73      0.44      1773\n",
      "weighted avg       0.98      0.69      0.80      1773\n",
      "\n"
     ]
    }
   ],
   "source": [
    "y_pred=model_rus.predict(X_val)\n",
    "print(classification_report(y_val,y_pred))"
   ]
  },
  {
   "cell_type": "markdown",
   "id": "294f02b0",
   "metadata": {},
   "source": [
    "# Penalized Logistic Regression"
   ]
  },
  {
   "cell_type": "code",
   "execution_count": 118,
   "id": "b516fb4d",
   "metadata": {},
   "outputs": [
    {
     "data": {
      "text/html": [
       "<style>#sk-container-id-2 {color: black;background-color: white;}#sk-container-id-2 pre{padding: 0;}#sk-container-id-2 div.sk-toggleable {background-color: white;}#sk-container-id-2 label.sk-toggleable__label {cursor: pointer;display: block;width: 100%;margin-bottom: 0;padding: 0.3em;box-sizing: border-box;text-align: center;}#sk-container-id-2 label.sk-toggleable__label-arrow:before {content: \"▸\";float: left;margin-right: 0.25em;color: #696969;}#sk-container-id-2 label.sk-toggleable__label-arrow:hover:before {color: black;}#sk-container-id-2 div.sk-estimator:hover label.sk-toggleable__label-arrow:before {color: black;}#sk-container-id-2 div.sk-toggleable__content {max-height: 0;max-width: 0;overflow: hidden;text-align: left;background-color: #f0f8ff;}#sk-container-id-2 div.sk-toggleable__content pre {margin: 0.2em;color: black;border-radius: 0.25em;background-color: #f0f8ff;}#sk-container-id-2 input.sk-toggleable__control:checked~div.sk-toggleable__content {max-height: 200px;max-width: 100%;overflow: auto;}#sk-container-id-2 input.sk-toggleable__control:checked~label.sk-toggleable__label-arrow:before {content: \"▾\";}#sk-container-id-2 div.sk-estimator input.sk-toggleable__control:checked~label.sk-toggleable__label {background-color: #d4ebff;}#sk-container-id-2 div.sk-label input.sk-toggleable__control:checked~label.sk-toggleable__label {background-color: #d4ebff;}#sk-container-id-2 input.sk-hidden--visually {border: 0;clip: rect(1px 1px 1px 1px);clip: rect(1px, 1px, 1px, 1px);height: 1px;margin: -1px;overflow: hidden;padding: 0;position: absolute;width: 1px;}#sk-container-id-2 div.sk-estimator {font-family: monospace;background-color: #f0f8ff;border: 1px dotted black;border-radius: 0.25em;box-sizing: border-box;margin-bottom: 0.5em;}#sk-container-id-2 div.sk-estimator:hover {background-color: #d4ebff;}#sk-container-id-2 div.sk-parallel-item::after {content: \"\";width: 100%;border-bottom: 1px solid gray;flex-grow: 1;}#sk-container-id-2 div.sk-label:hover label.sk-toggleable__label {background-color: #d4ebff;}#sk-container-id-2 div.sk-serial::before {content: \"\";position: absolute;border-left: 1px solid gray;box-sizing: border-box;top: 0;bottom: 0;left: 50%;z-index: 0;}#sk-container-id-2 div.sk-serial {display: flex;flex-direction: column;align-items: center;background-color: white;padding-right: 0.2em;padding-left: 0.2em;position: relative;}#sk-container-id-2 div.sk-item {position: relative;z-index: 1;}#sk-container-id-2 div.sk-parallel {display: flex;align-items: stretch;justify-content: center;background-color: white;position: relative;}#sk-container-id-2 div.sk-item::before, #sk-container-id-2 div.sk-parallel-item::before {content: \"\";position: absolute;border-left: 1px solid gray;box-sizing: border-box;top: 0;bottom: 0;left: 50%;z-index: -1;}#sk-container-id-2 div.sk-parallel-item {display: flex;flex-direction: column;z-index: 1;position: relative;background-color: white;}#sk-container-id-2 div.sk-parallel-item:first-child::after {align-self: flex-end;width: 50%;}#sk-container-id-2 div.sk-parallel-item:last-child::after {align-self: flex-start;width: 50%;}#sk-container-id-2 div.sk-parallel-item:only-child::after {width: 0;}#sk-container-id-2 div.sk-dashed-wrapped {border: 1px dashed gray;margin: 0 0.4em 0.5em 0.4em;box-sizing: border-box;padding-bottom: 0.4em;background-color: white;}#sk-container-id-2 div.sk-label label {font-family: monospace;font-weight: bold;display: inline-block;line-height: 1.2em;}#sk-container-id-2 div.sk-label-container {text-align: center;}#sk-container-id-2 div.sk-container {/* jupyter's `normalize.less` sets `[hidden] { display: none; }` but bootstrap.min.css set `[hidden] { display: none !important; }` so we also need the `!important` here to be able to override the default hidden behavior on the sphinx rendered scikit-learn.org. See: https://github.com/scikit-learn/scikit-learn/issues/21755 */display: inline-block !important;position: relative;}#sk-container-id-2 div.sk-text-repr-fallback {display: none;}</style><div id=\"sk-container-id-2\" class=\"sk-top-container\"><div class=\"sk-text-repr-fallback\"><pre>LogisticRegression(class_weight=&#x27;balanced&#x27;)</pre><b>In a Jupyter environment, please rerun this cell to show the HTML representation or trust the notebook. <br />On GitHub, the HTML representation is unable to render, please try loading this page with nbviewer.org.</b></div><div class=\"sk-container\" hidden><div class=\"sk-item\"><div class=\"sk-estimator sk-toggleable\"><input class=\"sk-toggleable__control sk-hidden--visually\" id=\"sk-estimator-id-2\" type=\"checkbox\" checked><label for=\"sk-estimator-id-2\" class=\"sk-toggleable__label sk-toggleable__label-arrow\">LogisticRegression</label><div class=\"sk-toggleable__content\"><pre>LogisticRegression(class_weight=&#x27;balanced&#x27;)</pre></div></div></div></div></div>"
      ],
      "text/plain": [
       "LogisticRegression(class_weight='balanced')"
      ]
     },
     "execution_count": 118,
     "metadata": {},
     "output_type": "execute_result"
    }
   ],
   "source": [
    "model_blanced=LogisticRegression(class_weight='balanced')\n",
    "model_blanced.fit(X_train,y_train)"
   ]
  },
  {
   "cell_type": "code",
   "execution_count": 119,
   "id": "6ba3ca72",
   "metadata": {},
   "outputs": [
    {
     "name": "stdout",
     "output_type": "stream",
     "text": [
      "              precision    recall  f1-score   support\n",
      "\n",
      "           0       1.00      0.73      0.84      1746\n",
      "           1       0.04      0.78      0.08        27\n",
      "\n",
      "    accuracy                           0.73      1773\n",
      "   macro avg       0.52      0.75      0.46      1773\n",
      "weighted avg       0.98      0.73      0.83      1773\n",
      "\n"
     ]
    }
   ],
   "source": [
    "y_pred=model_blanced.predict(X_val)\n",
    "print(classification_report(y_val,y_pred))"
   ]
  },
  {
   "cell_type": "code",
   "execution_count": null,
   "id": "ece79353",
   "metadata": {},
   "outputs": [],
   "source": []
  }
 ],
 "metadata": {
  "kernelspec": {
   "display_name": "Python 3 (ipykernel)",
   "language": "python",
   "name": "python3"
  },
  "language_info": {
   "codemirror_mode": {
    "name": "ipython",
    "version": 3
   },
   "file_extension": ".py",
   "mimetype": "text/x-python",
   "name": "python",
   "nbconvert_exporter": "python",
   "pygments_lexer": "ipython3",
   "version": "3.11.3"
  }
 },
 "nbformat": 4,
 "nbformat_minor": 5
}
